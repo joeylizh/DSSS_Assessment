{
 "cells": [
  {
   "cell_type": "markdown",
   "id": "8e9651cd-3c33-4b26-9edd-90f3caecad0a",
   "metadata": {},
   "source": [
    "# This notebook is for the codes have not been used"
   ]
  },
  {
   "cell_type": "code",
   "execution_count": null,
   "id": "c418d841-0e62-43fc-a862-3c914bff8ff6",
   "metadata": {},
   "outputs": [],
   "source": [
    "# np.random.seed(1)\n",
    "\n",
    "# remove_n = 892920 # The number of rows with random index\n",
    "\n",
    "# # Removes these rows from dataframe and returns a subset dataframe.\n",
    "# drop_indices = np.random.choice(df.index, remove_n, replace=False)\n",
    "# df_subset = df.drop(drop_indices)\n",
    "\n",
    "# df_subset"
   ]
  },
  {
   "cell_type": "markdown",
   "id": "d9bf8e6f-cb70-4d8e-b8d1-5a6a8ab914bd",
   "metadata": {},
   "source": [
    "---"
   ]
  },
  {
   "cell_type": "code",
   "execution_count": null,
   "id": "673a5287-947e-4a9c-8168-9d4f30e7165b",
   "metadata": {},
   "outputs": [],
   "source": [
    "# df[\"ID\"] = df.groupby([\"Transaction_unique_identifier\"]).ngroup()\n",
    "# df"
   ]
  },
  {
   "cell_type": "code",
   "execution_count": null,
   "id": "89cf2f53-f9c1-4f70-8d7f-048f5b346fed",
   "metadata": {},
   "outputs": [],
   "source": [
    "# # shift column 'Name' to first position\n",
    "# first_column = df.pop(\"ID\")\n",
    "\n",
    "# # insert column using insert(position,column_name,\n",
    "# # first_column) function\n",
    "# df.insert(0, \"ID\", first_column)\n",
    "\n",
    "# df.head()"
   ]
  },
  {
   "cell_type": "markdown",
   "id": "a7348641-7bb2-4f25-af33-554053a6c236",
   "metadata": {},
   "source": [
    "---"
   ]
  },
  {
   "cell_type": "code",
   "execution_count": null,
   "id": "2c25e663-4bca-4d9a-83d0-38b0a0778d5d",
   "metadata": {},
   "outputs": [],
   "source": [
    "# pip install geopandas\n",
    "# pip install geopy"
   ]
  },
  {
   "cell_type": "code",
   "execution_count": null,
   "id": "614d7b2d-3b53-45b7-a7ec-2b08405034ab",
   "metadata": {},
   "outputs": [],
   "source": [
    "# import geopy\n",
    "# from geopy.geocoders import Nominatim\n",
    "# from geopy.extra.rate_limiter import RateLimiter"
   ]
  },
  {
   "cell_type": "code",
   "execution_count": null,
   "id": "0db7290d-f393-420f-a783-2eaf9d95be36",
   "metadata": {},
   "outputs": [],
   "source": [
    "\n",
    "# locator = Nominatim(user_agent='myGeocoder')\n",
    "# # 1 - conveneint function to delay between geocoding calls\n",
    "# geocode = RateLimiter(locator.geocode, min_delay_seconds=0.1)\n",
    "# # 2- - create location column\n",
    "# df['location'] = df['Postcode'].apply(geocode)\n",
    "# # 3 - create longitude, laatitude and altitude from location column (returns tuple)\n",
    "# df['point'] = df['location'].apply(lambda loc: tuple(loc.point) if loc else None)\n",
    "# # 4 - split point column into latitude, longitude and altitude columns\n",
    "# df[['latitude', 'longitude', 'altitude']] = pd.DataFrame(df['point'].tolist(), index=df.index)\n"
   ]
  },
  {
   "cell_type": "markdown",
   "id": "b2620f9d-4d66-47a9-bc5a-9e19f1c17a57",
   "metadata": {},
   "source": [
    "---"
   ]
  },
  {
   "cell_type": "code",
   "execution_count": null,
   "id": "6bde8270-f0d6-4541-a869-ed743083c1d6",
   "metadata": {},
   "outputs": [],
   "source": [
    "# import geocoder\n",
    "\n",
    "# def get_geocoder(postal_code_from_df):\n",
    "#      # initialize your variable to None\n",
    "#      lat_lng_coords = None\n",
    "#      # loop until you get the coordinates\n",
    "#      while(lat_lng_coords is None):\n",
    "#        g = geocoder.google('{}, Toronto, Ontario'.format(postal_code_from_df))\n",
    "#        lat_lng_coords = g.latlng\n",
    "#      latitude = lat_lng_coords[0]\n",
    "#      longitude = lat_lng_coords[1]\n",
    "#      return latitude,longitude\n",
    "\n",
    "\n",
    "# df['Latitude'], df['Longitude'] = zip(*df['Postcode'].apply(get_geocoder))\n"
   ]
  },
  {
   "cell_type": "markdown",
   "id": "2d3ad99c-1638-4365-b7a7-7330ec7a3cba",
   "metadata": {},
   "source": [
    "---"
   ]
  },
  {
   "cell_type": "code",
   "execution_count": null,
   "id": "690ce906-2227-4231-ac75-5fe3fc9bbfc6",
   "metadata": {},
   "outputs": [],
   "source": [
    "df_subset = pd.read_csv('https://raw.githubusercontent.com/joeylizh/DSSS_Assessment/main/df_subset.csv')\n",
    "\n",
    "df_subset.head()"
   ]
  },
  {
   "cell_type": "code",
   "execution_count": null,
   "id": "49c9f958-fdbf-46be-8841-6d5633832d15",
   "metadata": {},
   "outputs": [],
   "source": [
    "\n",
    "df_subset.to_csv(r'Data/df_subset.csv', index = False)"
   ]
  },
  {
   "cell_type": "markdown",
   "id": "79ff4a60-5a84-49a8-98dd-16066ad082e3",
   "metadata": {},
   "source": [
    "---"
   ]
  },
  {
   "cell_type": "code",
   "execution_count": null,
   "id": "04a796b3-c90b-4a86-833d-eb0a2eee8843",
   "metadata": {},
   "outputs": [],
   "source": [
    "df_numeric1 = pd.get_dummies(df_subset, columns = ['Building_Age'])"
   ]
  },
  {
   "cell_type": "code",
   "execution_count": null,
   "id": "009813d5-b964-4587-914e-4cce77cfba90",
   "metadata": {},
   "outputs": [],
   "source": [
    "df_numeric2 = pd.get_dummies(df_numeric1, columns = ['Tenure'])"
   ]
  }
 ],
 "metadata": {
  "kernelspec": {
   "display_name": "Python 3 (ipykernel)",
   "language": "python",
   "name": "python3"
  },
  "language_info": {
   "codemirror_mode": {
    "name": "ipython",
    "version": 3
   },
   "file_extension": ".py",
   "mimetype": "text/x-python",
   "name": "python",
   "nbconvert_exporter": "python",
   "pygments_lexer": "ipython3",
   "version": "3.9.6"
  }
 },
 "nbformat": 4,
 "nbformat_minor": 5
}
