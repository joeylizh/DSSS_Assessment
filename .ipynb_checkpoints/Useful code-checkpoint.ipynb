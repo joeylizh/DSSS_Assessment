{
 "cells": [
  {
   "cell_type": "markdown",
   "id": "8e9651cd-3c33-4b26-9edd-90f3caecad0a",
   "metadata": {},
   "source": [
    "# This notebook is for the codes have not been used"
   ]
  },
  {
   "cell_type": "code",
   "execution_count": null,
   "id": "c418d841-0e62-43fc-a862-3c914bff8ff6",
   "metadata": {},
   "outputs": [],
   "source": [
    "# np.random.seed(1)\n",
    "\n",
    "# remove_n = 892920 # The number of rows with random index\n",
    "\n",
    "# # Removes these rows from dataframe and returns a subset dataframe.\n",
    "# drop_indices = np.random.choice(df.index, remove_n, replace=False)\n",
    "# df_subset = df.drop(drop_indices)\n",
    "\n",
    "# df_subset"
   ]
  }
 ],
 "metadata": {
  "kernelspec": {
   "display_name": "Python 3 (ipykernel)",
   "language": "python",
   "name": "python3"
  },
  "language_info": {
   "codemirror_mode": {
    "name": "ipython",
    "version": 3
   },
   "file_extension": ".py",
   "mimetype": "text/x-python",
   "name": "python",
   "nbconvert_exporter": "python",
   "pygments_lexer": "ipython3",
   "version": "3.9.6"
  }
 },
 "nbformat": 4,
 "nbformat_minor": 5
}
