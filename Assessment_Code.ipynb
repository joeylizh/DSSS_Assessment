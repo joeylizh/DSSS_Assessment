{
 "cells": [
  {
   "cell_type": "markdown",
   "id": "34cb7624-3aed-4571-9d66-ce94e5e038f5",
   "metadata": {},
   "source": [
    "# **Regression Models for House Price Prediction and Impact Factors Investigation in England**"
   ]
  },
  {
   "cell_type": "markdown",
   "id": "f1ba7b32-9be5-410c-bd3a-dff904f82843",
   "metadata": {},
   "source": [
    "*This report* \n",
    "\n",
    "\n",
    "The running time according to my computer is about 5min."
   ]
  },
  {
   "cell_type": "markdown",
   "id": "433a4df5-6b6f-4348-8601-8ad2f07d74a2",
   "metadata": {},
   "source": [
    "| [1. Introduction](#1.-Introduction) | [2. Literature Review](#2.-Literature-Review) | [3. Research Question](#3.-Research-Question) | [4. Data](#4.-Data) | [5. Methodology](#5.-Methodology) | [6. Results and Discussion](#6.-Results-and-Discussion) | [7. Conclusion](#7.-Conclusion) | [Bibliography](#Bibliography) |"
   ]
  },
  {
   "cell_type": "markdown",
   "id": "e05ccb5e-b2c2-42e7-8537-9ca609d68fc7",
   "metadata": {},
   "source": [
    "---"
   ]
  },
  {
   "cell_type": "markdown",
   "id": "8c3fbe83-93ee-48f9-82e7-4f4828d32371",
   "metadata": {},
   "source": [
    "## 1. Introduction\n"
   ]
  },
  {
   "cell_type": "markdown",
   "id": "71f39fbc-2275-4593-88c8-e12637e9ab56",
   "metadata": {},
   "source": [
    "Real estate market has always been a popular topic of nationwide concern in UK. Trends in the market are not only of interest to buyers, homeowners analysts and policy makers, they also have potential contribution in economic development. Generally, house price may be determined by a variety of aspects, including the location, property type, investment prospects and supply and demand of the market etc. (Phan, 2018). Therefore, it is necessary to precisely forecast the future housing price using scientific approach for optimising the decision making process. However, there are a vast amount of house price data produced every year, making sense of this huge dataset is absolutely challenging. Since there are numerous factors drive the variation of house prices, which triggers the demand of a forecasting model that can interpret the relationship between the variables and prices of house. Machine Learning (ML) has paved the way in this research context. Such technique can build model to learn from dataset, optimise its parameters and derive data-driven prediction.\n",
    "\n",
    "Normally ML algorithms are splitted into three categories: supervised, unsupervised and reinforcement. The context dataset is covered by supervised learning and will be suitable for regression model since the data presents input and output variables. The house price data is obtained from UK Government website (GOV.UK., 2022), the recent data in 2021 will be used for research. The goal of this study is to analyze the historical property transaction data to build regression models, then compare the results to obtain the optimal one and find the most influential factors on housing prices.\n",
    "\n",
    "The code chunk below contains an overview of packages required for the analysis process."
   ]
  },
  {
   "cell_type": "code",
   "execution_count": 1,
   "id": "85aef96c-a69a-4bb1-9415-d8d0ccb37049",
   "metadata": {},
   "outputs": [],
   "source": [
    "# Import time for measuring the execution time of the program\n",
    "import time\n",
    "start_time = time.time()\n",
    "\n",
    "# Import packages for data manipulation and processing\n",
    "import numpy as np\n",
    "import pandas as pd\n",
    "\n",
    "# Import packages for visualization\n",
    "import matplotlib.pyplot as plt\n",
    "import seaborn as sns \n",
    "\n",
    "# Import packages for regression models\n",
    "import statsmodels.api as sm\n",
    "import sklearn\n",
    "from sklearn import model_selection\n",
    "from sklearn.linear_model import LinearRegression\n",
    "from sklearn.model_selection import validation_curve\n",
    "from sklearn.model_selection import train_test_split\n",
    "\n",
    "# Other program settings\n",
    "pd.set_option(\"display.max_rows\", 300)  # specifies number of rows to show\n",
    "pd.options.display.float_format = (\"{:40,.4f}\".format)  # specifies default number format to 4 decimal places\n",
    "plt.style.use(\"ggplot\")  # specifies that graphs should use ggplot styling\n",
    "%matplotlib inline"
   ]
  },
  {
   "cell_type": "markdown",
   "id": "9dec6a95-9adc-4286-8547-7f31e1ca9038",
   "metadata": {},
   "source": [
    "## 2. Literature Review"
   ]
  },
  {
   "cell_type": "markdown",
   "id": "bd702863-9d3e-471f-a3d1-91d8f813f02f",
   "metadata": {},
   "source": [
    "There are already related studies on housing price prediction. Louati et al. (2022) developed a set of machine learning algorithms to increase the effectiveness of the land price estimation in Riyadh city, which included decision tree, random forest and linear regression. The results indicated that random forest provided the best performance, while the other two had the similar results. Avanijaa and Al (2021) applied XGBoost regression to estimate house price associated with location, neighbourhood  and infrastructure and suggested deep learning algorithms for boosting the prediction accuracy, although more data may be required. \n",
    "\n",
    "\n",
    "Therefore, in my research, random forest will be used for investigating the significant factors impacting UK house price, as decision tree and linear regression generate the similar results, \n",
    "Finally pros and cons will be analyzed for both methods, and conclude the benefits of different methods in different context."
   ]
  },
  {
   "cell_type": "markdown",
   "id": "112a6ec7-4ecd-4ff7-a0c2-42c2f041fb6d",
   "metadata": {},
   "source": [
    "## 3. Research Questions"
   ]
  },
  {
   "cell_type": "markdown",
   "id": "99a594ca-21ab-4eb7-9670-38195160ed14",
   "metadata": {},
   "source": [
    "Therefore, can house price be predicted by using linear regression, random forest and decision tree models? Which regression model can provide better prediction? Which variables can significantly impact the England house price?"
   ]
  },
  {
   "cell_type": "markdown",
   "id": "5986b8aa-c978-4e0a-8ac7-f884738c886e",
   "metadata": {},
   "source": [
    "## 4. Data"
   ]
  },
  {
   "cell_type": "markdown",
   "id": "22f5c004-b7f8-4893-a276-88d1e35bf5f6",
   "metadata": {},
   "source": [
    "The data is obtained from HM Land Registry Open Data, which contains house price paid data in England and Wales in 2021"
   ]
  },
  {
   "cell_type": "markdown",
   "id": "0db92250-8601-4cf6-830b-9815d2e89c84",
   "metadata": {},
   "source": [
    "### 4.1 Data Cleaning"
   ]
  },
  {
   "cell_type": "markdown",
   "id": "d8b68e2b-ea5f-43f9-a64a-bed9d2c01908",
   "metadata": {},
   "source": [
    "add column headers, \n",
    "import dataset from\n",
    "from the data info, it can be seen that the transaction unique identifier is object, which can be convert to integer transaction ID for further analysis"
   ]
  },
  {
   "cell_type": "code",
   "execution_count": 2,
   "id": "199f7a2e-52e8-4552-9a8b-771751ef66d6",
   "metadata": {},
   "outputs": [
    {
     "data": {
      "text/html": [
       "<div>\n",
       "<style scoped>\n",
       "    .dataframe tbody tr th:only-of-type {\n",
       "        vertical-align: middle;\n",
       "    }\n",
       "\n",
       "    .dataframe tbody tr th {\n",
       "        vertical-align: top;\n",
       "    }\n",
       "\n",
       "    .dataframe thead th {\n",
       "        text-align: right;\n",
       "    }\n",
       "</style>\n",
       "<table border=\"1\" class=\"dataframe\">\n",
       "  <thead>\n",
       "    <tr style=\"text-align: right;\">\n",
       "      <th></th>\n",
       "      <th>Transaction_unique_identifier</th>\n",
       "      <th>Price</th>\n",
       "      <th>Date_of_Transfer</th>\n",
       "      <th>Postcode</th>\n",
       "      <th>Property_Type</th>\n",
       "      <th>Building_Age</th>\n",
       "      <th>Tenure</th>\n",
       "      <th>PAON</th>\n",
       "      <th>SAON</th>\n",
       "      <th>Street</th>\n",
       "      <th>Locality</th>\n",
       "      <th>Town/City</th>\n",
       "      <th>District</th>\n",
       "      <th>County</th>\n",
       "      <th>PPD_Category_Type</th>\n",
       "    </tr>\n",
       "  </thead>\n",
       "  <tbody>\n",
       "    <tr>\n",
       "      <th>0</th>\n",
       "      <td>{C6209F5F-3182-295E-E053-6C04A8C0DDCC}</td>\n",
       "      <td>270000</td>\n",
       "      <td>2021/3/11 0:00</td>\n",
       "      <td>CM18 7JN</td>\n",
       "      <td>T</td>\n",
       "      <td>N</td>\n",
       "      <td>F</td>\n",
       "      <td>23</td>\n",
       "      <td>NaN</td>\n",
       "      <td>CORNER MEADOW</td>\n",
       "      <td>NaN</td>\n",
       "      <td>HARLOW</td>\n",
       "      <td>HARLOW</td>\n",
       "      <td>ESSEX</td>\n",
       "      <td>A</td>\n",
       "    </tr>\n",
       "    <tr>\n",
       "      <th>1</th>\n",
       "      <td>{C6209F5F-3184-295E-E053-6C04A8C0DDCC}</td>\n",
       "      <td>246000</td>\n",
       "      <td>2021/6/4 0:00</td>\n",
       "      <td>SS8 8JW</td>\n",
       "      <td>D</td>\n",
       "      <td>N</td>\n",
       "      <td>F</td>\n",
       "      <td>22</td>\n",
       "      <td>NaN</td>\n",
       "      <td>LIMETREE ROAD</td>\n",
       "      <td>NaN</td>\n",
       "      <td>CANVEY ISLAND</td>\n",
       "      <td>CASTLE POINT</td>\n",
       "      <td>ESSEX</td>\n",
       "      <td>A</td>\n",
       "    </tr>\n",
       "    <tr>\n",
       "      <th>2</th>\n",
       "      <td>{C6209F5F-3185-295E-E053-6C04A8C0DDCC}</td>\n",
       "      <td>250000</td>\n",
       "      <td>2021/4/9 0:00</td>\n",
       "      <td>CM2 8QL</td>\n",
       "      <td>T</td>\n",
       "      <td>N</td>\n",
       "      <td>F</td>\n",
       "      <td>25</td>\n",
       "      <td>NaN</td>\n",
       "      <td>THE STREET</td>\n",
       "      <td>GALLEYWOOD</td>\n",
       "      <td>CHELMSFORD</td>\n",
       "      <td>CHELMSFORD</td>\n",
       "      <td>ESSEX</td>\n",
       "      <td>A</td>\n",
       "    </tr>\n",
       "    <tr>\n",
       "      <th>3</th>\n",
       "      <td>{C6209F5F-3186-295E-E053-6C04A8C0DDCC}</td>\n",
       "      <td>660000</td>\n",
       "      <td>2021/5/26 0:00</td>\n",
       "      <td>CO6 1QU</td>\n",
       "      <td>D</td>\n",
       "      <td>N</td>\n",
       "      <td>F</td>\n",
       "      <td>3</td>\n",
       "      <td>NaN</td>\n",
       "      <td>GARDENERS ROW</td>\n",
       "      <td>COGGESHALL</td>\n",
       "      <td>COLCHESTER</td>\n",
       "      <td>BRAINTREE</td>\n",
       "      <td>ESSEX</td>\n",
       "      <td>A</td>\n",
       "    </tr>\n",
       "    <tr>\n",
       "      <th>4</th>\n",
       "      <td>{C6209F5F-3187-295E-E053-6C04A8C0DDCC}</td>\n",
       "      <td>567500</td>\n",
       "      <td>2021/4/9 0:00</td>\n",
       "      <td>SS6 9NS</td>\n",
       "      <td>D</td>\n",
       "      <td>N</td>\n",
       "      <td>F</td>\n",
       "      <td>6</td>\n",
       "      <td>NaN</td>\n",
       "      <td>SAXON CLOSE</td>\n",
       "      <td>NaN</td>\n",
       "      <td>RAYLEIGH</td>\n",
       "      <td>ROCHFORD</td>\n",
       "      <td>ESSEX</td>\n",
       "      <td>A</td>\n",
       "    </tr>\n",
       "    <tr>\n",
       "      <th>...</th>\n",
       "      <td>...</td>\n",
       "      <td>...</td>\n",
       "      <td>...</td>\n",
       "      <td>...</td>\n",
       "      <td>...</td>\n",
       "      <td>...</td>\n",
       "      <td>...</td>\n",
       "      <td>...</td>\n",
       "      <td>...</td>\n",
       "      <td>...</td>\n",
       "      <td>...</td>\n",
       "      <td>...</td>\n",
       "      <td>...</td>\n",
       "      <td>...</td>\n",
       "      <td>...</td>\n",
       "    </tr>\n",
       "    <tr>\n",
       "      <th>944722</th>\n",
       "      <td>{CD5A9DCB-FAD5-310A-E053-6C04A8C00A1F}</td>\n",
       "      <td>325000</td>\n",
       "      <td>2021/5/28 0:00</td>\n",
       "      <td>ME10 4AG</td>\n",
       "      <td>T</td>\n",
       "      <td>N</td>\n",
       "      <td>F</td>\n",
       "      <td>19</td>\n",
       "      <td>NaN</td>\n",
       "      <td>HONESTY CLOSE</td>\n",
       "      <td>NaN</td>\n",
       "      <td>SITTINGBOURNE</td>\n",
       "      <td>SWALE</td>\n",
       "      <td>KENT</td>\n",
       "      <td>A</td>\n",
       "    </tr>\n",
       "    <tr>\n",
       "      <th>944723</th>\n",
       "      <td>{CD5A9DCB-FAD8-310A-E053-6C04A8C00A1F}</td>\n",
       "      <td>355000</td>\n",
       "      <td>2021/5/28 0:00</td>\n",
       "      <td>ME12 3TD</td>\n",
       "      <td>D</td>\n",
       "      <td>N</td>\n",
       "      <td>F</td>\n",
       "      <td>31</td>\n",
       "      <td>NaN</td>\n",
       "      <td>CHARLOCK DRIVE</td>\n",
       "      <td>MINSTER ON SEA</td>\n",
       "      <td>SHEERNESS</td>\n",
       "      <td>SWALE</td>\n",
       "      <td>KENT</td>\n",
       "      <td>A</td>\n",
       "    </tr>\n",
       "    <tr>\n",
       "      <th>944724</th>\n",
       "      <td>{CD5A9DCB-FAD9-310A-E053-6C04A8C00A1F}</td>\n",
       "      <td>540000</td>\n",
       "      <td>2021/6/25 0:00</td>\n",
       "      <td>TN9 2NJ</td>\n",
       "      <td>D</td>\n",
       "      <td>N</td>\n",
       "      <td>F</td>\n",
       "      <td>93</td>\n",
       "      <td>NaN</td>\n",
       "      <td>JUDD ROAD</td>\n",
       "      <td>NaN</td>\n",
       "      <td>TONBRIDGE</td>\n",
       "      <td>TONBRIDGE AND MALLING</td>\n",
       "      <td>KENT</td>\n",
       "      <td>A</td>\n",
       "    </tr>\n",
       "    <tr>\n",
       "      <th>944725</th>\n",
       "      <td>{CD5A9DCB-FADA-310A-E053-6C04A8C00A1F}</td>\n",
       "      <td>175000</td>\n",
       "      <td>2021/7/14 0:00</td>\n",
       "      <td>CT17 9PU</td>\n",
       "      <td>D</td>\n",
       "      <td>N</td>\n",
       "      <td>F</td>\n",
       "      <td>7</td>\n",
       "      <td>NaN</td>\n",
       "      <td>QUEENS AVENUE</td>\n",
       "      <td>NaN</td>\n",
       "      <td>DOVER</td>\n",
       "      <td>DOVER</td>\n",
       "      <td>KENT</td>\n",
       "      <td>A</td>\n",
       "    </tr>\n",
       "    <tr>\n",
       "      <th>944726</th>\n",
       "      <td>{CD5A9DCB-FADC-310A-E053-6C04A8C00A1F}</td>\n",
       "      <td>250000</td>\n",
       "      <td>2021/5/14 0:00</td>\n",
       "      <td>ME16 8LL</td>\n",
       "      <td>T</td>\n",
       "      <td>N</td>\n",
       "      <td>F</td>\n",
       "      <td>149</td>\n",
       "      <td>NaN</td>\n",
       "      <td>MILTON STREET</td>\n",
       "      <td>NaN</td>\n",
       "      <td>MAIDSTONE</td>\n",
       "      <td>MAIDSTONE</td>\n",
       "      <td>KENT</td>\n",
       "      <td>A</td>\n",
       "    </tr>\n",
       "  </tbody>\n",
       "</table>\n",
       "<p>944727 rows × 15 columns</p>\n",
       "</div>"
      ],
      "text/plain": [
       "                 Transaction_unique_identifier   Price Date_of_Transfer  \\\n",
       "0       {C6209F5F-3182-295E-E053-6C04A8C0DDCC}  270000   2021/3/11 0:00   \n",
       "1       {C6209F5F-3184-295E-E053-6C04A8C0DDCC}  246000    2021/6/4 0:00   \n",
       "2       {C6209F5F-3185-295E-E053-6C04A8C0DDCC}  250000    2021/4/9 0:00   \n",
       "3       {C6209F5F-3186-295E-E053-6C04A8C0DDCC}  660000   2021/5/26 0:00   \n",
       "4       {C6209F5F-3187-295E-E053-6C04A8C0DDCC}  567500    2021/4/9 0:00   \n",
       "...                                        ...     ...              ...   \n",
       "944722  {CD5A9DCB-FAD5-310A-E053-6C04A8C00A1F}  325000   2021/5/28 0:00   \n",
       "944723  {CD5A9DCB-FAD8-310A-E053-6C04A8C00A1F}  355000   2021/5/28 0:00   \n",
       "944724  {CD5A9DCB-FAD9-310A-E053-6C04A8C00A1F}  540000   2021/6/25 0:00   \n",
       "944725  {CD5A9DCB-FADA-310A-E053-6C04A8C00A1F}  175000   2021/7/14 0:00   \n",
       "944726  {CD5A9DCB-FADC-310A-E053-6C04A8C00A1F}  250000   2021/5/14 0:00   \n",
       "\n",
       "        Postcode Property_Type Building_Age Tenure PAON SAON          Street  \\\n",
       "0       CM18 7JN             T            N      F   23  NaN   CORNER MEADOW   \n",
       "1        SS8 8JW             D            N      F   22  NaN   LIMETREE ROAD   \n",
       "2        CM2 8QL             T            N      F   25  NaN      THE STREET   \n",
       "3        CO6 1QU             D            N      F    3  NaN   GARDENERS ROW   \n",
       "4        SS6 9NS             D            N      F    6  NaN     SAXON CLOSE   \n",
       "...          ...           ...          ...    ...  ...  ...             ...   \n",
       "944722  ME10 4AG             T            N      F   19  NaN   HONESTY CLOSE   \n",
       "944723  ME12 3TD             D            N      F   31  NaN  CHARLOCK DRIVE   \n",
       "944724   TN9 2NJ             D            N      F   93  NaN       JUDD ROAD   \n",
       "944725  CT17 9PU             D            N      F    7  NaN   QUEENS AVENUE   \n",
       "944726  ME16 8LL             T            N      F  149  NaN   MILTON STREET   \n",
       "\n",
       "              Locality      Town/City               District County  \\\n",
       "0                  NaN         HARLOW                 HARLOW  ESSEX   \n",
       "1                  NaN  CANVEY ISLAND           CASTLE POINT  ESSEX   \n",
       "2           GALLEYWOOD     CHELMSFORD             CHELMSFORD  ESSEX   \n",
       "3           COGGESHALL     COLCHESTER              BRAINTREE  ESSEX   \n",
       "4                  NaN       RAYLEIGH               ROCHFORD  ESSEX   \n",
       "...                ...            ...                    ...    ...   \n",
       "944722             NaN  SITTINGBOURNE                  SWALE   KENT   \n",
       "944723  MINSTER ON SEA      SHEERNESS                  SWALE   KENT   \n",
       "944724             NaN      TONBRIDGE  TONBRIDGE AND MALLING   KENT   \n",
       "944725             NaN          DOVER                  DOVER   KENT   \n",
       "944726             NaN      MAIDSTONE              MAIDSTONE   KENT   \n",
       "\n",
       "       PPD_Category_Type  \n",
       "0                      A  \n",
       "1                      A  \n",
       "2                      A  \n",
       "3                      A  \n",
       "4                      A  \n",
       "...                  ...  \n",
       "944722                 A  \n",
       "944723                 A  \n",
       "944724                 A  \n",
       "944725                 A  \n",
       "944726                 A  \n",
       "\n",
       "[944727 rows x 15 columns]"
      ]
     },
     "execution_count": 2,
     "metadata": {},
     "output_type": "execute_result"
    }
   ],
   "source": [
    "# Import the dataset\n",
    "df = pd.read_csv(\"Data/Price_Paid_Data_2021.csv\")\n",
    "df"
   ]
  },
  {
   "cell_type": "code",
   "execution_count": 3,
   "id": "e14944ad-26ae-4d81-b1a8-c7866fc17aba",
   "metadata": {},
   "outputs": [
    {
     "name": "stdout",
     "output_type": "stream",
     "text": [
      "<class 'pandas.core.frame.DataFrame'>\n",
      "RangeIndex: 944727 entries, 0 to 944726\n",
      "Data columns (total 15 columns):\n",
      " #   Column                         Non-Null Count   Dtype \n",
      "---  ------                         --------------   ----- \n",
      " 0   Transaction_unique_identifier  944727 non-null  object\n",
      " 1   Price                          944727 non-null  int64 \n",
      " 2   Date_of_Transfer               944727 non-null  object\n",
      " 3   Postcode                       941896 non-null  object\n",
      " 4   Property_Type                  944727 non-null  object\n",
      " 5   Building_Age                   944727 non-null  object\n",
      " 6   Tenure                         944727 non-null  object\n",
      " 7   PAON                           944727 non-null  object\n",
      " 8   SAON                           103127 non-null  object\n",
      " 9   Street                         926258 non-null  object\n",
      " 10  Locality                       360019 non-null  object\n",
      " 11  Town/City                      944727 non-null  object\n",
      " 12  District                       944727 non-null  object\n",
      " 13  County                         944727 non-null  object\n",
      " 14  PPD_Category_Type              944727 non-null  object\n",
      "dtypes: int64(1), object(14)\n",
      "memory usage: 108.1+ MB\n"
     ]
    }
   ],
   "source": [
    "df.info()"
   ]
  },
  {
   "cell_type": "markdown",
   "id": "ad176e03-0f72-488a-b1b6-eb856dbc9acf",
   "metadata": {},
   "source": [
    "There are some house postcodes missing from the summary table, which will be excluded. And since only England data will be investigated, Wales data will be excluded."
   ]
  },
  {
   "cell_type": "code",
   "execution_count": 4,
   "id": "0a15fc07-bc78-4c7c-ab54-eb1f3abbc1d4",
   "metadata": {},
   "outputs": [
    {
     "data": {
      "text/html": [
       "<div>\n",
       "<style scoped>\n",
       "    .dataframe tbody tr th:only-of-type {\n",
       "        vertical-align: middle;\n",
       "    }\n",
       "\n",
       "    .dataframe tbody tr th {\n",
       "        vertical-align: top;\n",
       "    }\n",
       "\n",
       "    .dataframe thead th {\n",
       "        text-align: right;\n",
       "    }\n",
       "</style>\n",
       "<table border=\"1\" class=\"dataframe\">\n",
       "  <thead>\n",
       "    <tr style=\"text-align: right;\">\n",
       "      <th></th>\n",
       "      <th>Transaction_unique_identifier</th>\n",
       "      <th>Price</th>\n",
       "      <th>Date_of_Transfer</th>\n",
       "      <th>Postcode</th>\n",
       "      <th>Property_Type</th>\n",
       "      <th>Building_Age</th>\n",
       "      <th>Tenure</th>\n",
       "      <th>PAON</th>\n",
       "      <th>SAON</th>\n",
       "      <th>Street</th>\n",
       "      <th>Locality</th>\n",
       "      <th>Town/City</th>\n",
       "      <th>District</th>\n",
       "      <th>County</th>\n",
       "      <th>PPD_Category_Type</th>\n",
       "    </tr>\n",
       "  </thead>\n",
       "  <tbody>\n",
       "    <tr>\n",
       "      <th>0</th>\n",
       "      <td>{C6209F5F-3182-295E-E053-6C04A8C0DDCC}</td>\n",
       "      <td>270000</td>\n",
       "      <td>2021/3/11 0:00</td>\n",
       "      <td>CM18 7JN</td>\n",
       "      <td>T</td>\n",
       "      <td>N</td>\n",
       "      <td>F</td>\n",
       "      <td>23</td>\n",
       "      <td>NaN</td>\n",
       "      <td>CORNER MEADOW</td>\n",
       "      <td>NaN</td>\n",
       "      <td>HARLOW</td>\n",
       "      <td>HARLOW</td>\n",
       "      <td>ESSEX</td>\n",
       "      <td>A</td>\n",
       "    </tr>\n",
       "    <tr>\n",
       "      <th>1</th>\n",
       "      <td>{C6209F5F-3184-295E-E053-6C04A8C0DDCC}</td>\n",
       "      <td>246000</td>\n",
       "      <td>2021/6/4 0:00</td>\n",
       "      <td>SS8 8JW</td>\n",
       "      <td>D</td>\n",
       "      <td>N</td>\n",
       "      <td>F</td>\n",
       "      <td>22</td>\n",
       "      <td>NaN</td>\n",
       "      <td>LIMETREE ROAD</td>\n",
       "      <td>NaN</td>\n",
       "      <td>CANVEY ISLAND</td>\n",
       "      <td>CASTLE POINT</td>\n",
       "      <td>ESSEX</td>\n",
       "      <td>A</td>\n",
       "    </tr>\n",
       "    <tr>\n",
       "      <th>2</th>\n",
       "      <td>{C6209F5F-3185-295E-E053-6C04A8C0DDCC}</td>\n",
       "      <td>250000</td>\n",
       "      <td>2021/4/9 0:00</td>\n",
       "      <td>CM2 8QL</td>\n",
       "      <td>T</td>\n",
       "      <td>N</td>\n",
       "      <td>F</td>\n",
       "      <td>25</td>\n",
       "      <td>NaN</td>\n",
       "      <td>THE STREET</td>\n",
       "      <td>GALLEYWOOD</td>\n",
       "      <td>CHELMSFORD</td>\n",
       "      <td>CHELMSFORD</td>\n",
       "      <td>ESSEX</td>\n",
       "      <td>A</td>\n",
       "    </tr>\n",
       "    <tr>\n",
       "      <th>3</th>\n",
       "      <td>{C6209F5F-3186-295E-E053-6C04A8C0DDCC}</td>\n",
       "      <td>660000</td>\n",
       "      <td>2021/5/26 0:00</td>\n",
       "      <td>CO6 1QU</td>\n",
       "      <td>D</td>\n",
       "      <td>N</td>\n",
       "      <td>F</td>\n",
       "      <td>3</td>\n",
       "      <td>NaN</td>\n",
       "      <td>GARDENERS ROW</td>\n",
       "      <td>COGGESHALL</td>\n",
       "      <td>COLCHESTER</td>\n",
       "      <td>BRAINTREE</td>\n",
       "      <td>ESSEX</td>\n",
       "      <td>A</td>\n",
       "    </tr>\n",
       "    <tr>\n",
       "      <th>4</th>\n",
       "      <td>{C6209F5F-3187-295E-E053-6C04A8C0DDCC}</td>\n",
       "      <td>567500</td>\n",
       "      <td>2021/4/9 0:00</td>\n",
       "      <td>SS6 9NS</td>\n",
       "      <td>D</td>\n",
       "      <td>N</td>\n",
       "      <td>F</td>\n",
       "      <td>6</td>\n",
       "      <td>NaN</td>\n",
       "      <td>SAXON CLOSE</td>\n",
       "      <td>NaN</td>\n",
       "      <td>RAYLEIGH</td>\n",
       "      <td>ROCHFORD</td>\n",
       "      <td>ESSEX</td>\n",
       "      <td>A</td>\n",
       "    </tr>\n",
       "    <tr>\n",
       "      <th>...</th>\n",
       "      <td>...</td>\n",
       "      <td>...</td>\n",
       "      <td>...</td>\n",
       "      <td>...</td>\n",
       "      <td>...</td>\n",
       "      <td>...</td>\n",
       "      <td>...</td>\n",
       "      <td>...</td>\n",
       "      <td>...</td>\n",
       "      <td>...</td>\n",
       "      <td>...</td>\n",
       "      <td>...</td>\n",
       "      <td>...</td>\n",
       "      <td>...</td>\n",
       "      <td>...</td>\n",
       "    </tr>\n",
       "    <tr>\n",
       "      <th>944722</th>\n",
       "      <td>{CD5A9DCB-FAD5-310A-E053-6C04A8C00A1F}</td>\n",
       "      <td>325000</td>\n",
       "      <td>2021/5/28 0:00</td>\n",
       "      <td>ME10 4AG</td>\n",
       "      <td>T</td>\n",
       "      <td>N</td>\n",
       "      <td>F</td>\n",
       "      <td>19</td>\n",
       "      <td>NaN</td>\n",
       "      <td>HONESTY CLOSE</td>\n",
       "      <td>NaN</td>\n",
       "      <td>SITTINGBOURNE</td>\n",
       "      <td>SWALE</td>\n",
       "      <td>KENT</td>\n",
       "      <td>A</td>\n",
       "    </tr>\n",
       "    <tr>\n",
       "      <th>944723</th>\n",
       "      <td>{CD5A9DCB-FAD8-310A-E053-6C04A8C00A1F}</td>\n",
       "      <td>355000</td>\n",
       "      <td>2021/5/28 0:00</td>\n",
       "      <td>ME12 3TD</td>\n",
       "      <td>D</td>\n",
       "      <td>N</td>\n",
       "      <td>F</td>\n",
       "      <td>31</td>\n",
       "      <td>NaN</td>\n",
       "      <td>CHARLOCK DRIVE</td>\n",
       "      <td>MINSTER ON SEA</td>\n",
       "      <td>SHEERNESS</td>\n",
       "      <td>SWALE</td>\n",
       "      <td>KENT</td>\n",
       "      <td>A</td>\n",
       "    </tr>\n",
       "    <tr>\n",
       "      <th>944724</th>\n",
       "      <td>{CD5A9DCB-FAD9-310A-E053-6C04A8C00A1F}</td>\n",
       "      <td>540000</td>\n",
       "      <td>2021/6/25 0:00</td>\n",
       "      <td>TN9 2NJ</td>\n",
       "      <td>D</td>\n",
       "      <td>N</td>\n",
       "      <td>F</td>\n",
       "      <td>93</td>\n",
       "      <td>NaN</td>\n",
       "      <td>JUDD ROAD</td>\n",
       "      <td>NaN</td>\n",
       "      <td>TONBRIDGE</td>\n",
       "      <td>TONBRIDGE AND MALLING</td>\n",
       "      <td>KENT</td>\n",
       "      <td>A</td>\n",
       "    </tr>\n",
       "    <tr>\n",
       "      <th>944725</th>\n",
       "      <td>{CD5A9DCB-FADA-310A-E053-6C04A8C00A1F}</td>\n",
       "      <td>175000</td>\n",
       "      <td>2021/7/14 0:00</td>\n",
       "      <td>CT17 9PU</td>\n",
       "      <td>D</td>\n",
       "      <td>N</td>\n",
       "      <td>F</td>\n",
       "      <td>7</td>\n",
       "      <td>NaN</td>\n",
       "      <td>QUEENS AVENUE</td>\n",
       "      <td>NaN</td>\n",
       "      <td>DOVER</td>\n",
       "      <td>DOVER</td>\n",
       "      <td>KENT</td>\n",
       "      <td>A</td>\n",
       "    </tr>\n",
       "    <tr>\n",
       "      <th>944726</th>\n",
       "      <td>{CD5A9DCB-FADC-310A-E053-6C04A8C00A1F}</td>\n",
       "      <td>250000</td>\n",
       "      <td>2021/5/14 0:00</td>\n",
       "      <td>ME16 8LL</td>\n",
       "      <td>T</td>\n",
       "      <td>N</td>\n",
       "      <td>F</td>\n",
       "      <td>149</td>\n",
       "      <td>NaN</td>\n",
       "      <td>MILTON STREET</td>\n",
       "      <td>NaN</td>\n",
       "      <td>MAIDSTONE</td>\n",
       "      <td>MAIDSTONE</td>\n",
       "      <td>KENT</td>\n",
       "      <td>A</td>\n",
       "    </tr>\n",
       "  </tbody>\n",
       "</table>\n",
       "<p>892928 rows × 15 columns</p>\n",
       "</div>"
      ],
      "text/plain": [
       "                 Transaction_unique_identifier   Price Date_of_Transfer  \\\n",
       "0       {C6209F5F-3182-295E-E053-6C04A8C0DDCC}  270000   2021/3/11 0:00   \n",
       "1       {C6209F5F-3184-295E-E053-6C04A8C0DDCC}  246000    2021/6/4 0:00   \n",
       "2       {C6209F5F-3185-295E-E053-6C04A8C0DDCC}  250000    2021/4/9 0:00   \n",
       "3       {C6209F5F-3186-295E-E053-6C04A8C0DDCC}  660000   2021/5/26 0:00   \n",
       "4       {C6209F5F-3187-295E-E053-6C04A8C0DDCC}  567500    2021/4/9 0:00   \n",
       "...                                        ...     ...              ...   \n",
       "944722  {CD5A9DCB-FAD5-310A-E053-6C04A8C00A1F}  325000   2021/5/28 0:00   \n",
       "944723  {CD5A9DCB-FAD8-310A-E053-6C04A8C00A1F}  355000   2021/5/28 0:00   \n",
       "944724  {CD5A9DCB-FAD9-310A-E053-6C04A8C00A1F}  540000   2021/6/25 0:00   \n",
       "944725  {CD5A9DCB-FADA-310A-E053-6C04A8C00A1F}  175000   2021/7/14 0:00   \n",
       "944726  {CD5A9DCB-FADC-310A-E053-6C04A8C00A1F}  250000   2021/5/14 0:00   \n",
       "\n",
       "        Postcode Property_Type Building_Age Tenure PAON SAON          Street  \\\n",
       "0       CM18 7JN             T            N      F   23  NaN   CORNER MEADOW   \n",
       "1        SS8 8JW             D            N      F   22  NaN   LIMETREE ROAD   \n",
       "2        CM2 8QL             T            N      F   25  NaN      THE STREET   \n",
       "3        CO6 1QU             D            N      F    3  NaN   GARDENERS ROW   \n",
       "4        SS6 9NS             D            N      F    6  NaN     SAXON CLOSE   \n",
       "...          ...           ...          ...    ...  ...  ...             ...   \n",
       "944722  ME10 4AG             T            N      F   19  NaN   HONESTY CLOSE   \n",
       "944723  ME12 3TD             D            N      F   31  NaN  CHARLOCK DRIVE   \n",
       "944724   TN9 2NJ             D            N      F   93  NaN       JUDD ROAD   \n",
       "944725  CT17 9PU             D            N      F    7  NaN   QUEENS AVENUE   \n",
       "944726  ME16 8LL             T            N      F  149  NaN   MILTON STREET   \n",
       "\n",
       "              Locality      Town/City               District County  \\\n",
       "0                  NaN         HARLOW                 HARLOW  ESSEX   \n",
       "1                  NaN  CANVEY ISLAND           CASTLE POINT  ESSEX   \n",
       "2           GALLEYWOOD     CHELMSFORD             CHELMSFORD  ESSEX   \n",
       "3           COGGESHALL     COLCHESTER              BRAINTREE  ESSEX   \n",
       "4                  NaN       RAYLEIGH               ROCHFORD  ESSEX   \n",
       "...                ...            ...                    ...    ...   \n",
       "944722             NaN  SITTINGBOURNE                  SWALE   KENT   \n",
       "944723  MINSTER ON SEA      SHEERNESS                  SWALE   KENT   \n",
       "944724             NaN      TONBRIDGE  TONBRIDGE AND MALLING   KENT   \n",
       "944725             NaN          DOVER                  DOVER   KENT   \n",
       "944726             NaN      MAIDSTONE              MAIDSTONE   KENT   \n",
       "\n",
       "       PPD_Category_Type  \n",
       "0                      A  \n",
       "1                      A  \n",
       "2                      A  \n",
       "3                      A  \n",
       "4                      A  \n",
       "...                  ...  \n",
       "944722                 A  \n",
       "944723                 A  \n",
       "944724                 A  \n",
       "944725                 A  \n",
       "944726                 A  \n",
       "\n",
       "[892928 rows x 15 columns]"
      ]
     },
     "execution_count": 4,
     "metadata": {},
     "output_type": "execute_result"
    }
   ],
   "source": [
    "# Drop rows with NA postcode\n",
    "df = df.dropna(subset = ['Postcode']) \n",
    "\n",
    "# Drop rows with Wales Postcode\n",
    "df = df[df.Postcode.str.startswith(('CF', 'LD', 'LL', 'NP', 'SA', 'SY')) == False]\n",
    "\n",
    "df"
   ]
  },
  {
   "cell_type": "markdown",
   "id": "ef510fa8-caf5-493a-b08f-18301b61cbbe",
   "metadata": {},
   "source": [
    "From all the available features, the most relevant factors are identified for building the prediction model, and the rest are excluded as they are missing, duplicate or redundant. The variables listed below are those that contribute to house price forecasting. It should be noticed that postcode is decided to represent property location rather than the other position information, which is because postcode is succinct and unique, and it will be convert to longitude and latittude in the later process.\n",
    "- **Price**: stated sale price of the properties (*dependent variable*)\n",
    "- **Date of Transfer**: date when the sale is finished, Year/Month/Day_Time (*independent variable*)\n",
    "- **Postcode**: postcode of th properties (*independent variable*)\n",
    "- **Property type**: D = Detached, S = Semi-Detached, T = Terraced, F = Flats/Maisonettes, O = Other  (*independent variable*)\n",
    "- **Building age**: the age of the property, Y = a newly built property, N = an established residential building (*independent variable*)\n",
    "- **Tenure**: tenure of the properties, F = Freehold, L= Leasehold (*independent variable*)\n"
   ]
  },
  {
   "cell_type": "code",
   "execution_count": 5,
   "id": "07700163-b755-4c20-987c-6bba04b96ff5",
   "metadata": {},
   "outputs": [
    {
     "data": {
      "text/html": [
       "<div>\n",
       "<style scoped>\n",
       "    .dataframe tbody tr th:only-of-type {\n",
       "        vertical-align: middle;\n",
       "    }\n",
       "\n",
       "    .dataframe tbody tr th {\n",
       "        vertical-align: top;\n",
       "    }\n",
       "\n",
       "    .dataframe thead th {\n",
       "        text-align: right;\n",
       "    }\n",
       "</style>\n",
       "<table border=\"1\" class=\"dataframe\">\n",
       "  <thead>\n",
       "    <tr style=\"text-align: right;\">\n",
       "      <th></th>\n",
       "      <th>Price</th>\n",
       "      <th>Date_of_Transfer</th>\n",
       "      <th>Postcode</th>\n",
       "      <th>Property_Type</th>\n",
       "      <th>Building_Age</th>\n",
       "      <th>Tenure</th>\n",
       "    </tr>\n",
       "  </thead>\n",
       "  <tbody>\n",
       "    <tr>\n",
       "      <th>0</th>\n",
       "      <td>270000</td>\n",
       "      <td>2021/3/11 0:00</td>\n",
       "      <td>CM18 7JN</td>\n",
       "      <td>T</td>\n",
       "      <td>N</td>\n",
       "      <td>F</td>\n",
       "    </tr>\n",
       "    <tr>\n",
       "      <th>1</th>\n",
       "      <td>246000</td>\n",
       "      <td>2021/6/4 0:00</td>\n",
       "      <td>SS8 8JW</td>\n",
       "      <td>D</td>\n",
       "      <td>N</td>\n",
       "      <td>F</td>\n",
       "    </tr>\n",
       "    <tr>\n",
       "      <th>2</th>\n",
       "      <td>250000</td>\n",
       "      <td>2021/4/9 0:00</td>\n",
       "      <td>CM2 8QL</td>\n",
       "      <td>T</td>\n",
       "      <td>N</td>\n",
       "      <td>F</td>\n",
       "    </tr>\n",
       "    <tr>\n",
       "      <th>3</th>\n",
       "      <td>660000</td>\n",
       "      <td>2021/5/26 0:00</td>\n",
       "      <td>CO6 1QU</td>\n",
       "      <td>D</td>\n",
       "      <td>N</td>\n",
       "      <td>F</td>\n",
       "    </tr>\n",
       "    <tr>\n",
       "      <th>4</th>\n",
       "      <td>567500</td>\n",
       "      <td>2021/4/9 0:00</td>\n",
       "      <td>SS6 9NS</td>\n",
       "      <td>D</td>\n",
       "      <td>N</td>\n",
       "      <td>F</td>\n",
       "    </tr>\n",
       "  </tbody>\n",
       "</table>\n",
       "</div>"
      ],
      "text/plain": [
       "    Price Date_of_Transfer  Postcode Property_Type Building_Age Tenure\n",
       "0  270000   2021/3/11 0:00  CM18 7JN             T            N      F\n",
       "1  246000    2021/6/4 0:00   SS8 8JW             D            N      F\n",
       "2  250000    2021/4/9 0:00   CM2 8QL             T            N      F\n",
       "3  660000   2021/5/26 0:00   CO6 1QU             D            N      F\n",
       "4  567500    2021/4/9 0:00   SS6 9NS             D            N      F"
      ]
     },
     "execution_count": 5,
     "metadata": {},
     "output_type": "execute_result"
    }
   ],
   "source": [
    "df = df.drop([\n",
    "        \"Transaction_unique_identifier\",\n",
    "        \"PAON\",\n",
    "        \"SAON\",\n",
    "        \"Street\",\n",
    "        \"Locality\",\n",
    "        \"Town/City\",\n",
    "        \"District\",\n",
    "        \"County\",\n",
    "        \"PPD_Category_Type\",],axis=1,)\n",
    "\n",
    "df.head()"
   ]
  },
  {
   "cell_type": "markdown",
   "id": "96f4de50-ec87-4961-8af3-b281d70136a6",
   "metadata": {},
   "source": [
    "It could be seen that the data is still extremely large, using the entire dataset would be computationally challenging and significantly affect the program running and training time. To improve the time and training efficiency, only 20 thousand sets of data is selected. The data with na values is excluded, then the datasets will be randomly selected to avoid data bias and inequity."
   ]
  },
  {
   "cell_type": "code",
   "execution_count": 6,
   "id": "6f9fd7c3-9f94-4547-93e2-39762454efb1",
   "metadata": {},
   "outputs": [],
   "source": [
    "df = df.dropna() "
   ]
  },
  {
   "cell_type": "code",
   "execution_count": 7,
   "id": "79febf6e-9270-4d87-bebc-7e4aa198838c",
   "metadata": {},
   "outputs": [
    {
     "data": {
      "text/html": [
       "<div>\n",
       "<style scoped>\n",
       "    .dataframe tbody tr th:only-of-type {\n",
       "        vertical-align: middle;\n",
       "    }\n",
       "\n",
       "    .dataframe tbody tr th {\n",
       "        vertical-align: top;\n",
       "    }\n",
       "\n",
       "    .dataframe thead th {\n",
       "        text-align: right;\n",
       "    }\n",
       "</style>\n",
       "<table border=\"1\" class=\"dataframe\">\n",
       "  <thead>\n",
       "    <tr style=\"text-align: right;\">\n",
       "      <th></th>\n",
       "      <th>Price</th>\n",
       "      <th>Date_of_Transfer</th>\n",
       "      <th>Postcode</th>\n",
       "      <th>Property_Type</th>\n",
       "      <th>Building_Age</th>\n",
       "      <th>Tenure</th>\n",
       "    </tr>\n",
       "  </thead>\n",
       "  <tbody>\n",
       "    <tr>\n",
       "      <th>766120</th>\n",
       "      <td>72500</td>\n",
       "      <td>2021/4/28 0:00</td>\n",
       "      <td>TS12 2AL</td>\n",
       "      <td>T</td>\n",
       "      <td>N</td>\n",
       "      <td>F</td>\n",
       "    </tr>\n",
       "    <tr>\n",
       "      <th>513417</th>\n",
       "      <td>110000</td>\n",
       "      <td>2021/3/23 0:00</td>\n",
       "      <td>ST4 7EW</td>\n",
       "      <td>S</td>\n",
       "      <td>N</td>\n",
       "      <td>F</td>\n",
       "    </tr>\n",
       "    <tr>\n",
       "      <th>643478</th>\n",
       "      <td>261000</td>\n",
       "      <td>2021/3/4 0:00</td>\n",
       "      <td>PO1 3FT</td>\n",
       "      <td>F</td>\n",
       "      <td>N</td>\n",
       "      <td>L</td>\n",
       "    </tr>\n",
       "    <tr>\n",
       "      <th>834396</th>\n",
       "      <td>135000</td>\n",
       "      <td>2021/5/5 0:00</td>\n",
       "      <td>CO4 9YD</td>\n",
       "      <td>F</td>\n",
       "      <td>N</td>\n",
       "      <td>F</td>\n",
       "    </tr>\n",
       "    <tr>\n",
       "      <th>559621</th>\n",
       "      <td>370000</td>\n",
       "      <td>2021/8/6 0:00</td>\n",
       "      <td>CV5 9DW</td>\n",
       "      <td>S</td>\n",
       "      <td>N</td>\n",
       "      <td>F</td>\n",
       "    </tr>\n",
       "    <tr>\n",
       "      <th>...</th>\n",
       "      <td>...</td>\n",
       "      <td>...</td>\n",
       "      <td>...</td>\n",
       "      <td>...</td>\n",
       "      <td>...</td>\n",
       "      <td>...</td>\n",
       "    </tr>\n",
       "    <tr>\n",
       "      <th>168633</th>\n",
       "      <td>180000</td>\n",
       "      <td>2021/9/7 0:00</td>\n",
       "      <td>DY3 2PQ</td>\n",
       "      <td>O</td>\n",
       "      <td>N</td>\n",
       "      <td>F</td>\n",
       "    </tr>\n",
       "    <tr>\n",
       "      <th>302570</th>\n",
       "      <td>310000</td>\n",
       "      <td>2021/6/28 0:00</td>\n",
       "      <td>CT12 5AL</td>\n",
       "      <td>D</td>\n",
       "      <td>N</td>\n",
       "      <td>F</td>\n",
       "    </tr>\n",
       "    <tr>\n",
       "      <th>455460</th>\n",
       "      <td>650000</td>\n",
       "      <td>2021/6/30 0:00</td>\n",
       "      <td>SW9 0FA</td>\n",
       "      <td>F</td>\n",
       "      <td>N</td>\n",
       "      <td>L</td>\n",
       "    </tr>\n",
       "    <tr>\n",
       "      <th>574380</th>\n",
       "      <td>158000</td>\n",
       "      <td>2021/4/1 0:00</td>\n",
       "      <td>CV7 7JB</td>\n",
       "      <td>F</td>\n",
       "      <td>N</td>\n",
       "      <td>L</td>\n",
       "    </tr>\n",
       "    <tr>\n",
       "      <th>132493</th>\n",
       "      <td>177300</td>\n",
       "      <td>2021/5/21 0:00</td>\n",
       "      <td>SS0 9DB</td>\n",
       "      <td>F</td>\n",
       "      <td>N</td>\n",
       "      <td>L</td>\n",
       "    </tr>\n",
       "  </tbody>\n",
       "</table>\n",
       "<p>20000 rows × 6 columns</p>\n",
       "</div>"
      ],
      "text/plain": [
       "         Price Date_of_Transfer  Postcode Property_Type Building_Age Tenure\n",
       "766120   72500   2021/4/28 0:00  TS12 2AL             T            N      F\n",
       "513417  110000   2021/3/23 0:00   ST4 7EW             S            N      F\n",
       "643478  261000    2021/3/4 0:00   PO1 3FT             F            N      L\n",
       "834396  135000    2021/5/5 0:00   CO4 9YD             F            N      F\n",
       "559621  370000    2021/8/6 0:00   CV5 9DW             S            N      F\n",
       "...        ...              ...       ...           ...          ...    ...\n",
       "168633  180000    2021/9/7 0:00   DY3 2PQ             O            N      F\n",
       "302570  310000   2021/6/28 0:00  CT12 5AL             D            N      F\n",
       "455460  650000   2021/6/30 0:00   SW9 0FA             F            N      L\n",
       "574380  158000    2021/4/1 0:00   CV7 7JB             F            N      L\n",
       "132493  177300   2021/5/21 0:00   SS0 9DB             F            N      L\n",
       "\n",
       "[20000 rows x 6 columns]"
      ]
     },
     "execution_count": 7,
     "metadata": {},
     "output_type": "execute_result"
    }
   ],
   "source": [
    "np.random.seed(10)\n",
    "\n",
    "df_subset = df.sample(n=20000)\n",
    "\n",
    "df_subset"
   ]
  },
  {
   "cell_type": "markdown",
   "id": "51d99e25-1681-4d3b-91e1-8f3658d1eba7",
   "metadata": {},
   "source": [
    "### 4.2 Data Investigating and Pre-processing"
   ]
  },
  {
   "cell_type": "markdown",
   "id": "8dbc9945-e25a-4e92-95fd-acc31d9f0d03",
   "metadata": {},
   "source": [
    "In order to apply the data for establishing prediction model, pre-processing is required.\n",
    "\n",
    "Firstly, \n",
    "\n",
    "The date of transaction is now represented as the number of months since January 1995 (the earliest month of transaction in our dataset), to simplify the representation of time by months only, instead of month and year.\n",
    "\n",
    "\n"
   ]
  },
  {
   "cell_type": "code",
   "execution_count": 8,
   "id": "d7cd1c0e-0f98-48ff-ad8d-874049e53c9b",
   "metadata": {},
   "outputs": [
    {
     "data": {
      "text/html": [
       "<div>\n",
       "<style scoped>\n",
       "    .dataframe tbody tr th:only-of-type {\n",
       "        vertical-align: middle;\n",
       "    }\n",
       "\n",
       "    .dataframe tbody tr th {\n",
       "        vertical-align: top;\n",
       "    }\n",
       "\n",
       "    .dataframe thead th {\n",
       "        text-align: right;\n",
       "    }\n",
       "</style>\n",
       "<table border=\"1\" class=\"dataframe\">\n",
       "  <thead>\n",
       "    <tr style=\"text-align: right;\">\n",
       "      <th></th>\n",
       "      <th>Price</th>\n",
       "      <th>Postcode</th>\n",
       "      <th>Property_Type</th>\n",
       "      <th>Building_Age</th>\n",
       "      <th>Tenure</th>\n",
       "      <th>Month</th>\n",
       "    </tr>\n",
       "  </thead>\n",
       "  <tbody>\n",
       "    <tr>\n",
       "      <th>766120</th>\n",
       "      <td>72500</td>\n",
       "      <td>TS12 2AL</td>\n",
       "      <td>T</td>\n",
       "      <td>N</td>\n",
       "      <td>F</td>\n",
       "      <td>4</td>\n",
       "    </tr>\n",
       "    <tr>\n",
       "      <th>513417</th>\n",
       "      <td>110000</td>\n",
       "      <td>ST4 7EW</td>\n",
       "      <td>S</td>\n",
       "      <td>N</td>\n",
       "      <td>F</td>\n",
       "      <td>3</td>\n",
       "    </tr>\n",
       "    <tr>\n",
       "      <th>643478</th>\n",
       "      <td>261000</td>\n",
       "      <td>PO1 3FT</td>\n",
       "      <td>F</td>\n",
       "      <td>N</td>\n",
       "      <td>L</td>\n",
       "      <td>3</td>\n",
       "    </tr>\n",
       "    <tr>\n",
       "      <th>834396</th>\n",
       "      <td>135000</td>\n",
       "      <td>CO4 9YD</td>\n",
       "      <td>F</td>\n",
       "      <td>N</td>\n",
       "      <td>F</td>\n",
       "      <td>5</td>\n",
       "    </tr>\n",
       "    <tr>\n",
       "      <th>559621</th>\n",
       "      <td>370000</td>\n",
       "      <td>CV5 9DW</td>\n",
       "      <td>S</td>\n",
       "      <td>N</td>\n",
       "      <td>F</td>\n",
       "      <td>8</td>\n",
       "    </tr>\n",
       "  </tbody>\n",
       "</table>\n",
       "</div>"
      ],
      "text/plain": [
       "         Price  Postcode Property_Type Building_Age Tenure  Month\n",
       "766120   72500  TS12 2AL             T            N      F      4\n",
       "513417  110000   ST4 7EW             S            N      F      3\n",
       "643478  261000   PO1 3FT             F            N      L      3\n",
       "834396  135000   CO4 9YD             F            N      F      5\n",
       "559621  370000   CV5 9DW             S            N      F      8"
      ]
     },
     "execution_count": 8,
     "metadata": {},
     "output_type": "execute_result"
    }
   ],
   "source": [
    "# Transfer the date data to month data since 2021 Janurary\n",
    "df_subset['Month'] = pd.DatetimeIndex(df_subset['Date_of_Transfer']).month \n",
    "\n",
    "# Drop the date of transfer column\n",
    "df_subset = df_subset.drop(['Date_of_Transfer'], axis=1)\n",
    "\n",
    "df_subset.head()"
   ]
  },
  {
   "cell_type": "markdown",
   "id": "b092f563-bacc-47c5-81c3-8ffac176bc27",
   "metadata": {},
   "source": [
    "Secondly, the postcode is replaced by latitudes and longitudes to indicate the\n",
    "\n",
    "as the coordinate data is too large to contain, the data source and the manipulate processes are presented below.\n",
    "\n",
    " To capture geographical variation in housing prices more accurately, we decide to represent the address of the property in terms of latitudes and longitudes rather than postcodes. This is preferable to postcodes as neigh- bouring regions do not necessarily share similar postcodes (e.g. SW7 and W8). This process is automated through a Python script which looks up the postcode in a pre-compiled CSV file of London postcodes1, and returns the corresponding latitude and longitude."
   ]
  },
  {
   "cell_type": "code",
   "execution_count": 9,
   "id": "08b9859c-d234-49c0-bb9e-93a498e001c5",
   "metadata": {},
   "outputs": [],
   "source": [
    "# read UK coordinates file into pandas DataFrame. The data link is: http://download.geonames.org/export/zip/\n",
    "\n",
    "GBcoords1 = pd.read_csv(\"https://raw.githubusercontent.com/joeylizh/DSSS_Assessment/main/GBcoords1.csv\")\n",
    "GBcoords2 = pd.read_csv(\"https://raw.githubusercontent.com/joeylizh/DSSS_Assessment/main/GBcoords2.csv\")\n"
   ]
  },
  {
   "cell_type": "code",
   "execution_count": 10,
   "id": "b0bfd521-98d9-41b6-9ff5-5a1905ff6e67",
   "metadata": {},
   "outputs": [],
   "source": [
    "# Concat the two coordinate file\n",
    "frames = [GBcoords1, GBcoords2]\n",
    "\n",
    "GBcoords = pd.concat(frames)"
   ]
  },
  {
   "cell_type": "code",
   "execution_count": 11,
   "id": "c655fa26-0267-4429-b367-ee21959e98f3",
   "metadata": {},
   "outputs": [
    {
     "data": {
      "text/html": [
       "<div>\n",
       "<style scoped>\n",
       "    .dataframe tbody tr th:only-of-type {\n",
       "        vertical-align: middle;\n",
       "    }\n",
       "\n",
       "    .dataframe tbody tr th {\n",
       "        vertical-align: top;\n",
       "    }\n",
       "\n",
       "    .dataframe thead th {\n",
       "        text-align: right;\n",
       "    }\n",
       "</style>\n",
       "<table border=\"1\" class=\"dataframe\">\n",
       "  <thead>\n",
       "    <tr style=\"text-align: right;\">\n",
       "      <th></th>\n",
       "      <th>Price</th>\n",
       "      <th>Postcode</th>\n",
       "      <th>Property_Type</th>\n",
       "      <th>Building_Age</th>\n",
       "      <th>Tenure</th>\n",
       "      <th>Month</th>\n",
       "      <th>Latitude</th>\n",
       "      <th>Longitude</th>\n",
       "    </tr>\n",
       "  </thead>\n",
       "  <tbody>\n",
       "    <tr>\n",
       "      <th>0</th>\n",
       "      <td>72500</td>\n",
       "      <td>TS12 2AL</td>\n",
       "      <td>T</td>\n",
       "      <td>N</td>\n",
       "      <td>F</td>\n",
       "      <td>4</td>\n",
       "      <td>54.5575</td>\n",
       "      <td>-0.9597</td>\n",
       "    </tr>\n",
       "    <tr>\n",
       "      <th>1</th>\n",
       "      <td>110000</td>\n",
       "      <td>ST4 7EW</td>\n",
       "      <td>S</td>\n",
       "      <td>N</td>\n",
       "      <td>F</td>\n",
       "      <td>3</td>\n",
       "      <td>53.0079</td>\n",
       "      <td>-2.1951</td>\n",
       "    </tr>\n",
       "    <tr>\n",
       "      <th>2</th>\n",
       "      <td>261000</td>\n",
       "      <td>PO1 3FT</td>\n",
       "      <td>F</td>\n",
       "      <td>N</td>\n",
       "      <td>L</td>\n",
       "      <td>3</td>\n",
       "      <td>50.8005</td>\n",
       "      <td>-1.1029</td>\n",
       "    </tr>\n",
       "    <tr>\n",
       "      <th>3</th>\n",
       "      <td>135000</td>\n",
       "      <td>CO4 9YD</td>\n",
       "      <td>F</td>\n",
       "      <td>N</td>\n",
       "      <td>F</td>\n",
       "      <td>5</td>\n",
       "      <td>51.9100</td>\n",
       "      <td>0.9163</td>\n",
       "    </tr>\n",
       "    <tr>\n",
       "      <th>4</th>\n",
       "      <td>370000</td>\n",
       "      <td>CV5 9DW</td>\n",
       "      <td>S</td>\n",
       "      <td>N</td>\n",
       "      <td>F</td>\n",
       "      <td>8</td>\n",
       "      <td>52.4332</td>\n",
       "      <td>-1.5664</td>\n",
       "    </tr>\n",
       "    <tr>\n",
       "      <th>...</th>\n",
       "      <td>...</td>\n",
       "      <td>...</td>\n",
       "      <td>...</td>\n",
       "      <td>...</td>\n",
       "      <td>...</td>\n",
       "      <td>...</td>\n",
       "      <td>...</td>\n",
       "      <td>...</td>\n",
       "    </tr>\n",
       "    <tr>\n",
       "      <th>19995</th>\n",
       "      <td>180000</td>\n",
       "      <td>DY3 2PQ</td>\n",
       "      <td>O</td>\n",
       "      <td>N</td>\n",
       "      <td>F</td>\n",
       "      <td>9</td>\n",
       "      <td>52.5172</td>\n",
       "      <td>-2.1306</td>\n",
       "    </tr>\n",
       "    <tr>\n",
       "      <th>19996</th>\n",
       "      <td>310000</td>\n",
       "      <td>CT12 5AL</td>\n",
       "      <td>D</td>\n",
       "      <td>N</td>\n",
       "      <td>F</td>\n",
       "      <td>6</td>\n",
       "      <td>51.3483</td>\n",
       "      <td>1.3845</td>\n",
       "    </tr>\n",
       "    <tr>\n",
       "      <th>19997</th>\n",
       "      <td>650000</td>\n",
       "      <td>SW9 0FA</td>\n",
       "      <td>F</td>\n",
       "      <td>N</td>\n",
       "      <td>L</td>\n",
       "      <td>6</td>\n",
       "      <td>51.4702</td>\n",
       "      <td>-0.1147</td>\n",
       "    </tr>\n",
       "    <tr>\n",
       "      <th>19998</th>\n",
       "      <td>158000</td>\n",
       "      <td>CV7 7JB</td>\n",
       "      <td>F</td>\n",
       "      <td>N</td>\n",
       "      <td>L</td>\n",
       "      <td>4</td>\n",
       "      <td>52.3827</td>\n",
       "      <td>-1.6415</td>\n",
       "    </tr>\n",
       "    <tr>\n",
       "      <th>19999</th>\n",
       "      <td>177300</td>\n",
       "      <td>SS0 9DB</td>\n",
       "      <td>F</td>\n",
       "      <td>N</td>\n",
       "      <td>L</td>\n",
       "      <td>5</td>\n",
       "      <td>51.5445</td>\n",
       "      <td>0.6969</td>\n",
       "    </tr>\n",
       "  </tbody>\n",
       "</table>\n",
       "<p>20000 rows × 8 columns</p>\n",
       "</div>"
      ],
      "text/plain": [
       "        Price  Postcode Property_Type Building_Age Tenure  Month  \\\n",
       "0       72500  TS12 2AL             T            N      F      4   \n",
       "1      110000   ST4 7EW             S            N      F      3   \n",
       "2      261000   PO1 3FT             F            N      L      3   \n",
       "3      135000   CO4 9YD             F            N      F      5   \n",
       "4      370000   CV5 9DW             S            N      F      8   \n",
       "...       ...       ...           ...          ...    ...    ...   \n",
       "19995  180000   DY3 2PQ             O            N      F      9   \n",
       "19996  310000  CT12 5AL             D            N      F      6   \n",
       "19997  650000   SW9 0FA             F            N      L      6   \n",
       "19998  158000   CV7 7JB             F            N      L      4   \n",
       "19999  177300   SS0 9DB             F            N      L      5   \n",
       "\n",
       "                                      Latitude  \\\n",
       "0                                      54.5575   \n",
       "1                                      53.0079   \n",
       "2                                      50.8005   \n",
       "3                                      51.9100   \n",
       "4                                      52.4332   \n",
       "...                                        ...   \n",
       "19995                                  52.5172   \n",
       "19996                                  51.3483   \n",
       "19997                                  51.4702   \n",
       "19998                                  52.3827   \n",
       "19999                                  51.5445   \n",
       "\n",
       "                                     Longitude  \n",
       "0                                      -0.9597  \n",
       "1                                      -2.1951  \n",
       "2                                      -1.1029  \n",
       "3                                       0.9163  \n",
       "4                                      -1.5664  \n",
       "...                                        ...  \n",
       "19995                                  -2.1306  \n",
       "19996                                   1.3845  \n",
       "19997                                  -0.1147  \n",
       "19998                                  -1.6415  \n",
       "19999                                   0.6969  \n",
       "\n",
       "[20000 rows x 8 columns]"
      ]
     },
     "execution_count": 11,
     "metadata": {},
     "output_type": "execute_result"
    }
   ],
   "source": [
    "# Merge the latitude and longitude data into the datasets\n",
    "df_subset  = df_subset.merge(GBcoords, on='Postcode', how='left')\n",
    "df_subset"
   ]
  },
  {
   "cell_type": "code",
   "execution_count": 12,
   "id": "0c2debd8-f93a-41ed-9589-bf618f078114",
   "metadata": {},
   "outputs": [
    {
     "data": {
      "text/html": [
       "<div>\n",
       "<style scoped>\n",
       "    .dataframe tbody tr th:only-of-type {\n",
       "        vertical-align: middle;\n",
       "    }\n",
       "\n",
       "    .dataframe tbody tr th {\n",
       "        vertical-align: top;\n",
       "    }\n",
       "\n",
       "    .dataframe thead th {\n",
       "        text-align: right;\n",
       "    }\n",
       "</style>\n",
       "<table border=\"1\" class=\"dataframe\">\n",
       "  <thead>\n",
       "    <tr style=\"text-align: right;\">\n",
       "      <th></th>\n",
       "      <th>Price</th>\n",
       "      <th>Property_Type</th>\n",
       "      <th>Building_Age</th>\n",
       "      <th>Tenure</th>\n",
       "      <th>Month</th>\n",
       "      <th>Latitude</th>\n",
       "      <th>Longitude</th>\n",
       "    </tr>\n",
       "  </thead>\n",
       "  <tbody>\n",
       "    <tr>\n",
       "      <th>0</th>\n",
       "      <td>72500</td>\n",
       "      <td>T</td>\n",
       "      <td>N</td>\n",
       "      <td>F</td>\n",
       "      <td>4</td>\n",
       "      <td>54.5575</td>\n",
       "      <td>-0.9597</td>\n",
       "    </tr>\n",
       "    <tr>\n",
       "      <th>1</th>\n",
       "      <td>110000</td>\n",
       "      <td>S</td>\n",
       "      <td>N</td>\n",
       "      <td>F</td>\n",
       "      <td>3</td>\n",
       "      <td>53.0079</td>\n",
       "      <td>-2.1951</td>\n",
       "    </tr>\n",
       "    <tr>\n",
       "      <th>2</th>\n",
       "      <td>261000</td>\n",
       "      <td>F</td>\n",
       "      <td>N</td>\n",
       "      <td>L</td>\n",
       "      <td>3</td>\n",
       "      <td>50.8005</td>\n",
       "      <td>-1.1029</td>\n",
       "    </tr>\n",
       "    <tr>\n",
       "      <th>3</th>\n",
       "      <td>135000</td>\n",
       "      <td>F</td>\n",
       "      <td>N</td>\n",
       "      <td>F</td>\n",
       "      <td>5</td>\n",
       "      <td>51.9100</td>\n",
       "      <td>0.9163</td>\n",
       "    </tr>\n",
       "    <tr>\n",
       "      <th>4</th>\n",
       "      <td>370000</td>\n",
       "      <td>S</td>\n",
       "      <td>N</td>\n",
       "      <td>F</td>\n",
       "      <td>8</td>\n",
       "      <td>52.4332</td>\n",
       "      <td>-1.5664</td>\n",
       "    </tr>\n",
       "  </tbody>\n",
       "</table>\n",
       "</div>"
      ],
      "text/plain": [
       "    Price Property_Type Building_Age Tenure  Month  \\\n",
       "0   72500             T            N      F      4   \n",
       "1  110000             S            N      F      3   \n",
       "2  261000             F            N      L      3   \n",
       "3  135000             F            N      F      5   \n",
       "4  370000             S            N      F      8   \n",
       "\n",
       "                                  Latitude  \\\n",
       "0                                  54.5575   \n",
       "1                                  53.0079   \n",
       "2                                  50.8005   \n",
       "3                                  51.9100   \n",
       "4                                  52.4332   \n",
       "\n",
       "                                 Longitude  \n",
       "0                                  -0.9597  \n",
       "1                                  -2.1951  \n",
       "2                                  -1.1029  \n",
       "3                                   0.9163  \n",
       "4                                  -1.5664  "
      ]
     },
     "execution_count": 12,
     "metadata": {},
     "output_type": "execute_result"
    }
   ],
   "source": [
    "# Drop the rows without latitude and longitude values (latitude and longitude are consistent)\n",
    "df_subset = df_subset.dropna(subset = ['Latitude']) \n",
    "\n",
    "# Drop the Postcode column\n",
    "df_subset = df_subset.drop(['Postcode'], axis=1)\n",
    "\n",
    "df_subset.head()"
   ]
  },
  {
   "cell_type": "markdown",
   "id": "7510a15a-7db2-4800-b2b5-68c6f8c37dbc",
   "metadata": {},
   "source": [
    "The saved data above is the data link below, which contains latitude and longitude values without postcode column."
   ]
  },
  {
   "cell_type": "code",
   "execution_count": 13,
   "id": "e6b199a0-2a22-42c5-9e31-97c5725bac59",
   "metadata": {},
   "outputs": [
    {
     "name": "stdout",
     "output_type": "stream",
     "text": [
      "<class 'pandas.core.frame.DataFrame'>\n",
      "Int64Index: 19991 entries, 0 to 19999\n",
      "Data columns (total 7 columns):\n",
      " #   Column         Non-Null Count  Dtype  \n",
      "---  ------         --------------  -----  \n",
      " 0   Price          19991 non-null  int64  \n",
      " 1   Property_Type  19991 non-null  object \n",
      " 2   Building_Age   19991 non-null  object \n",
      " 3   Tenure         19991 non-null  object \n",
      " 4   Month          19991 non-null  int64  \n",
      " 5   Latitude       19991 non-null  float64\n",
      " 6   Longitude      19991 non-null  float64\n",
      "dtypes: float64(2), int64(2), object(3)\n",
      "memory usage: 1.2+ MB\n"
     ]
    }
   ],
   "source": [
    "df_subset.info()"
   ]
  },
  {
   "cell_type": "markdown",
   "id": "08e9866d-2b14-4789-ad3c-eadc1f872d0c",
   "metadata": {},
   "source": [
    "Finally, \n",
    "\n",
    "Binary categorical variables (build & tenure) are represented using one binary digit (i.e. (Build) 0 = Old, 1 = New / (Tenure) 0 = Leasehold, 1 = Freehold), while property type is represented using three binary digits through the use of dummy coding [43] (i.e. 000 = Detached, 100 = Semi- detached, 010 = Terrace, 001 = Flat).\n",
    "\n",
    "I want Old =0 and New =1 So we drop column \"N\" here"
   ]
  },
  {
   "cell_type": "code",
   "execution_count": 14,
   "id": "7db9b9b0-e466-4111-8ebe-6b41037eba1b",
   "metadata": {},
   "outputs": [
    {
     "data": {
      "text/html": [
       "<div>\n",
       "<style scoped>\n",
       "    .dataframe tbody tr th:only-of-type {\n",
       "        vertical-align: middle;\n",
       "    }\n",
       "\n",
       "    .dataframe tbody tr th {\n",
       "        vertical-align: top;\n",
       "    }\n",
       "\n",
       "    .dataframe thead th {\n",
       "        text-align: right;\n",
       "    }\n",
       "</style>\n",
       "<table border=\"1\" class=\"dataframe\">\n",
       "  <thead>\n",
       "    <tr style=\"text-align: right;\">\n",
       "      <th></th>\n",
       "      <th>Price</th>\n",
       "      <th>Property_Type</th>\n",
       "      <th>Tenure</th>\n",
       "      <th>Month</th>\n",
       "      <th>Latitude</th>\n",
       "      <th>Longitude</th>\n",
       "      <th>Building_Age</th>\n",
       "    </tr>\n",
       "  </thead>\n",
       "  <tbody>\n",
       "    <tr>\n",
       "      <th>0</th>\n",
       "      <td>72500</td>\n",
       "      <td>T</td>\n",
       "      <td>F</td>\n",
       "      <td>4</td>\n",
       "      <td>54.5575</td>\n",
       "      <td>-0.9597</td>\n",
       "      <td>0</td>\n",
       "    </tr>\n",
       "    <tr>\n",
       "      <th>1</th>\n",
       "      <td>110000</td>\n",
       "      <td>S</td>\n",
       "      <td>F</td>\n",
       "      <td>3</td>\n",
       "      <td>53.0079</td>\n",
       "      <td>-2.1951</td>\n",
       "      <td>0</td>\n",
       "    </tr>\n",
       "    <tr>\n",
       "      <th>2</th>\n",
       "      <td>261000</td>\n",
       "      <td>F</td>\n",
       "      <td>L</td>\n",
       "      <td>3</td>\n",
       "      <td>50.8005</td>\n",
       "      <td>-1.1029</td>\n",
       "      <td>0</td>\n",
       "    </tr>\n",
       "    <tr>\n",
       "      <th>3</th>\n",
       "      <td>135000</td>\n",
       "      <td>F</td>\n",
       "      <td>F</td>\n",
       "      <td>5</td>\n",
       "      <td>51.9100</td>\n",
       "      <td>0.9163</td>\n",
       "      <td>0</td>\n",
       "    </tr>\n",
       "    <tr>\n",
       "      <th>4</th>\n",
       "      <td>370000</td>\n",
       "      <td>S</td>\n",
       "      <td>F</td>\n",
       "      <td>8</td>\n",
       "      <td>52.4332</td>\n",
       "      <td>-1.5664</td>\n",
       "      <td>0</td>\n",
       "    </tr>\n",
       "    <tr>\n",
       "      <th>...</th>\n",
       "      <td>...</td>\n",
       "      <td>...</td>\n",
       "      <td>...</td>\n",
       "      <td>...</td>\n",
       "      <td>...</td>\n",
       "      <td>...</td>\n",
       "      <td>...</td>\n",
       "    </tr>\n",
       "    <tr>\n",
       "      <th>19995</th>\n",
       "      <td>180000</td>\n",
       "      <td>O</td>\n",
       "      <td>F</td>\n",
       "      <td>9</td>\n",
       "      <td>52.5172</td>\n",
       "      <td>-2.1306</td>\n",
       "      <td>0</td>\n",
       "    </tr>\n",
       "    <tr>\n",
       "      <th>19996</th>\n",
       "      <td>310000</td>\n",
       "      <td>D</td>\n",
       "      <td>F</td>\n",
       "      <td>6</td>\n",
       "      <td>51.3483</td>\n",
       "      <td>1.3845</td>\n",
       "      <td>0</td>\n",
       "    </tr>\n",
       "    <tr>\n",
       "      <th>19997</th>\n",
       "      <td>650000</td>\n",
       "      <td>F</td>\n",
       "      <td>L</td>\n",
       "      <td>6</td>\n",
       "      <td>51.4702</td>\n",
       "      <td>-0.1147</td>\n",
       "      <td>0</td>\n",
       "    </tr>\n",
       "    <tr>\n",
       "      <th>19998</th>\n",
       "      <td>158000</td>\n",
       "      <td>F</td>\n",
       "      <td>L</td>\n",
       "      <td>4</td>\n",
       "      <td>52.3827</td>\n",
       "      <td>-1.6415</td>\n",
       "      <td>0</td>\n",
       "    </tr>\n",
       "    <tr>\n",
       "      <th>19999</th>\n",
       "      <td>177300</td>\n",
       "      <td>F</td>\n",
       "      <td>L</td>\n",
       "      <td>5</td>\n",
       "      <td>51.5445</td>\n",
       "      <td>0.6969</td>\n",
       "      <td>0</td>\n",
       "    </tr>\n",
       "  </tbody>\n",
       "</table>\n",
       "<p>19991 rows × 7 columns</p>\n",
       "</div>"
      ],
      "text/plain": [
       "        Price Property_Type Tenure  Month  \\\n",
       "0       72500             T      F      4   \n",
       "1      110000             S      F      3   \n",
       "2      261000             F      L      3   \n",
       "3      135000             F      F      5   \n",
       "4      370000             S      F      8   \n",
       "...       ...           ...    ...    ...   \n",
       "19995  180000             O      F      9   \n",
       "19996  310000             D      F      6   \n",
       "19997  650000             F      L      6   \n",
       "19998  158000             F      L      4   \n",
       "19999  177300             F      L      5   \n",
       "\n",
       "                                      Latitude  \\\n",
       "0                                      54.5575   \n",
       "1                                      53.0079   \n",
       "2                                      50.8005   \n",
       "3                                      51.9100   \n",
       "4                                      52.4332   \n",
       "...                                        ...   \n",
       "19995                                  52.5172   \n",
       "19996                                  51.3483   \n",
       "19997                                  51.4702   \n",
       "19998                                  52.3827   \n",
       "19999                                  51.5445   \n",
       "\n",
       "                                     Longitude  Building_Age  \n",
       "0                                      -0.9597             0  \n",
       "1                                      -2.1951             0  \n",
       "2                                      -1.1029             0  \n",
       "3                                       0.9163             0  \n",
       "4                                      -1.5664             0  \n",
       "...                                        ...           ...  \n",
       "19995                                  -2.1306             0  \n",
       "19996                                   1.3845             0  \n",
       "19997                                  -0.1147             0  \n",
       "19998                                  -1.6415             0  \n",
       "19999                                   0.6969             0  \n",
       "\n",
       "[19991 rows x 7 columns]"
      ]
     },
     "execution_count": 14,
     "metadata": {},
     "output_type": "execute_result"
    }
   ],
   "source": [
    "# Data of Building age is converted into Binary Data\n",
    "df_one = pd.get_dummies(df_subset['Building_Age'])\n",
    " \n",
    "# Binary Data is Concatenated into Dataframe\n",
    "df_two = pd.concat((df_subset, df_one), axis=1)\n",
    " \n",
    "# Column \"Building_Age\" is dropped\n",
    "df_two = df_two.drop(['Building_Age'], axis=1)\n",
    " \n",
    "# I want Old =0 and New =1 So we drop column \"N\" here\n",
    "df_two = df_two.drop([\"N\"], axis=1)\n",
    " \n",
    "# Rename the Column\n",
    "df_numeric1 = df_two.rename(columns={\"Y\": \"Building_Age\"})\n",
    " \n",
    "# Print the Result\n",
    "df_numeric1"
   ]
  },
  {
   "cell_type": "markdown",
   "id": "866df2f3-0252-47bd-8b00-8313b350066f",
   "metadata": {},
   "source": [
    "Data of Tenure is converted into Binary Data by the same way\n",
    "Leasehold =0 and Freehold =1 So drop column \"L\" here"
   ]
  },
  {
   "cell_type": "code",
   "execution_count": 15,
   "id": "5949b56e-38c4-489c-a847-9b7ada76f38d",
   "metadata": {},
   "outputs": [
    {
     "data": {
      "text/html": [
       "<div>\n",
       "<style scoped>\n",
       "    .dataframe tbody tr th:only-of-type {\n",
       "        vertical-align: middle;\n",
       "    }\n",
       "\n",
       "    .dataframe tbody tr th {\n",
       "        vertical-align: top;\n",
       "    }\n",
       "\n",
       "    .dataframe thead th {\n",
       "        text-align: right;\n",
       "    }\n",
       "</style>\n",
       "<table border=\"1\" class=\"dataframe\">\n",
       "  <thead>\n",
       "    <tr style=\"text-align: right;\">\n",
       "      <th></th>\n",
       "      <th>Price</th>\n",
       "      <th>Property_Type</th>\n",
       "      <th>Month</th>\n",
       "      <th>Latitude</th>\n",
       "      <th>Longitude</th>\n",
       "      <th>Building_Age</th>\n",
       "      <th>Tenure</th>\n",
       "    </tr>\n",
       "  </thead>\n",
       "  <tbody>\n",
       "    <tr>\n",
       "      <th>0</th>\n",
       "      <td>72500</td>\n",
       "      <td>T</td>\n",
       "      <td>4</td>\n",
       "      <td>54.5575</td>\n",
       "      <td>-0.9597</td>\n",
       "      <td>0</td>\n",
       "      <td>1</td>\n",
       "    </tr>\n",
       "    <tr>\n",
       "      <th>1</th>\n",
       "      <td>110000</td>\n",
       "      <td>S</td>\n",
       "      <td>3</td>\n",
       "      <td>53.0079</td>\n",
       "      <td>-2.1951</td>\n",
       "      <td>0</td>\n",
       "      <td>1</td>\n",
       "    </tr>\n",
       "    <tr>\n",
       "      <th>2</th>\n",
       "      <td>261000</td>\n",
       "      <td>F</td>\n",
       "      <td>3</td>\n",
       "      <td>50.8005</td>\n",
       "      <td>-1.1029</td>\n",
       "      <td>0</td>\n",
       "      <td>0</td>\n",
       "    </tr>\n",
       "    <tr>\n",
       "      <th>3</th>\n",
       "      <td>135000</td>\n",
       "      <td>F</td>\n",
       "      <td>5</td>\n",
       "      <td>51.9100</td>\n",
       "      <td>0.9163</td>\n",
       "      <td>0</td>\n",
       "      <td>1</td>\n",
       "    </tr>\n",
       "    <tr>\n",
       "      <th>4</th>\n",
       "      <td>370000</td>\n",
       "      <td>S</td>\n",
       "      <td>8</td>\n",
       "      <td>52.4332</td>\n",
       "      <td>-1.5664</td>\n",
       "      <td>0</td>\n",
       "      <td>1</td>\n",
       "    </tr>\n",
       "    <tr>\n",
       "      <th>...</th>\n",
       "      <td>...</td>\n",
       "      <td>...</td>\n",
       "      <td>...</td>\n",
       "      <td>...</td>\n",
       "      <td>...</td>\n",
       "      <td>...</td>\n",
       "      <td>...</td>\n",
       "    </tr>\n",
       "    <tr>\n",
       "      <th>19995</th>\n",
       "      <td>180000</td>\n",
       "      <td>O</td>\n",
       "      <td>9</td>\n",
       "      <td>52.5172</td>\n",
       "      <td>-2.1306</td>\n",
       "      <td>0</td>\n",
       "      <td>1</td>\n",
       "    </tr>\n",
       "    <tr>\n",
       "      <th>19996</th>\n",
       "      <td>310000</td>\n",
       "      <td>D</td>\n",
       "      <td>6</td>\n",
       "      <td>51.3483</td>\n",
       "      <td>1.3845</td>\n",
       "      <td>0</td>\n",
       "      <td>1</td>\n",
       "    </tr>\n",
       "    <tr>\n",
       "      <th>19997</th>\n",
       "      <td>650000</td>\n",
       "      <td>F</td>\n",
       "      <td>6</td>\n",
       "      <td>51.4702</td>\n",
       "      <td>-0.1147</td>\n",
       "      <td>0</td>\n",
       "      <td>0</td>\n",
       "    </tr>\n",
       "    <tr>\n",
       "      <th>19998</th>\n",
       "      <td>158000</td>\n",
       "      <td>F</td>\n",
       "      <td>4</td>\n",
       "      <td>52.3827</td>\n",
       "      <td>-1.6415</td>\n",
       "      <td>0</td>\n",
       "      <td>0</td>\n",
       "    </tr>\n",
       "    <tr>\n",
       "      <th>19999</th>\n",
       "      <td>177300</td>\n",
       "      <td>F</td>\n",
       "      <td>5</td>\n",
       "      <td>51.5445</td>\n",
       "      <td>0.6969</td>\n",
       "      <td>0</td>\n",
       "      <td>0</td>\n",
       "    </tr>\n",
       "  </tbody>\n",
       "</table>\n",
       "<p>19991 rows × 7 columns</p>\n",
       "</div>"
      ],
      "text/plain": [
       "        Price Property_Type  Month                                 Latitude  \\\n",
       "0       72500             T      4                                  54.5575   \n",
       "1      110000             S      3                                  53.0079   \n",
       "2      261000             F      3                                  50.8005   \n",
       "3      135000             F      5                                  51.9100   \n",
       "4      370000             S      8                                  52.4332   \n",
       "...       ...           ...    ...                                      ...   \n",
       "19995  180000             O      9                                  52.5172   \n",
       "19996  310000             D      6                                  51.3483   \n",
       "19997  650000             F      6                                  51.4702   \n",
       "19998  158000             F      4                                  52.3827   \n",
       "19999  177300             F      5                                  51.5445   \n",
       "\n",
       "                                     Longitude  Building_Age  Tenure  \n",
       "0                                      -0.9597             0       1  \n",
       "1                                      -2.1951             0       1  \n",
       "2                                      -1.1029             0       0  \n",
       "3                                       0.9163             0       1  \n",
       "4                                      -1.5664             0       1  \n",
       "...                                        ...           ...     ...  \n",
       "19995                                  -2.1306             0       1  \n",
       "19996                                   1.3845             0       1  \n",
       "19997                                  -0.1147             0       0  \n",
       "19998                                  -1.6415             0       0  \n",
       "19999                                   0.6969             0       0  \n",
       "\n",
       "[19991 rows x 7 columns]"
      ]
     },
     "execution_count": 15,
     "metadata": {},
     "output_type": "execute_result"
    }
   ],
   "source": [
    "# Data of Tenure is converted into Binary Data\n",
    "df_three = pd.get_dummies(df_numeric1['Tenure'])\n",
    " \n",
    "# Binary Data is Concatenated into Dataframe\n",
    "df_four = pd.concat((df_numeric1, df_three), axis=1)\n",
    " \n",
    "# Column \"Tenure\" is dropped\n",
    "df_four = df_four.drop(['Tenure'], axis=1)\n",
    " \n",
    "# Leasehold =0 and Freehold =1 So drop column \"L\" here\n",
    "df_four = df_four.drop([\"L\"], axis=1)\n",
    " \n",
    "# Rename the Column\n",
    "df_numeric2 = df_four.rename(columns={\"F\": \"Tenure\"})\n",
    " \n",
    "# Print the Result\n",
    "df_numeric2"
   ]
  },
  {
   "cell_type": "markdown",
   "id": "7e964942-8a71-4f1d-83d3-76454ec70f93",
   "metadata": {},
   "source": [
    "The final step is to convert the property type, which contains five categories. Still deploy the same method but list the conversion of all the 5 categorical columns in dummy columns.  "
   ]
  },
  {
   "cell_type": "code",
   "execution_count": 16,
   "id": "53474b7d-6987-4506-a9bd-b3bcfe11bf65",
   "metadata": {},
   "outputs": [
    {
     "data": {
      "text/html": [
       "<div>\n",
       "<style scoped>\n",
       "    .dataframe tbody tr th:only-of-type {\n",
       "        vertical-align: middle;\n",
       "    }\n",
       "\n",
       "    .dataframe tbody tr th {\n",
       "        vertical-align: top;\n",
       "    }\n",
       "\n",
       "    .dataframe thead th {\n",
       "        text-align: right;\n",
       "    }\n",
       "</style>\n",
       "<table border=\"1\" class=\"dataframe\">\n",
       "  <thead>\n",
       "    <tr style=\"text-align: right;\">\n",
       "      <th></th>\n",
       "      <th>Price</th>\n",
       "      <th>Month</th>\n",
       "      <th>Latitude</th>\n",
       "      <th>Longitude</th>\n",
       "      <th>Building_Age</th>\n",
       "      <th>Tenure</th>\n",
       "      <th>Property_Type_D</th>\n",
       "      <th>Property_Type_F</th>\n",
       "      <th>Property_Type_O</th>\n",
       "      <th>Property_Type_S</th>\n",
       "      <th>Property_Type_T</th>\n",
       "    </tr>\n",
       "  </thead>\n",
       "  <tbody>\n",
       "    <tr>\n",
       "      <th>0</th>\n",
       "      <td>72500</td>\n",
       "      <td>4</td>\n",
       "      <td>54.5575</td>\n",
       "      <td>-0.9597</td>\n",
       "      <td>0</td>\n",
       "      <td>1</td>\n",
       "      <td>0</td>\n",
       "      <td>0</td>\n",
       "      <td>0</td>\n",
       "      <td>0</td>\n",
       "      <td>1</td>\n",
       "    </tr>\n",
       "    <tr>\n",
       "      <th>1</th>\n",
       "      <td>110000</td>\n",
       "      <td>3</td>\n",
       "      <td>53.0079</td>\n",
       "      <td>-2.1951</td>\n",
       "      <td>0</td>\n",
       "      <td>1</td>\n",
       "      <td>0</td>\n",
       "      <td>0</td>\n",
       "      <td>0</td>\n",
       "      <td>1</td>\n",
       "      <td>0</td>\n",
       "    </tr>\n",
       "    <tr>\n",
       "      <th>2</th>\n",
       "      <td>261000</td>\n",
       "      <td>3</td>\n",
       "      <td>50.8005</td>\n",
       "      <td>-1.1029</td>\n",
       "      <td>0</td>\n",
       "      <td>0</td>\n",
       "      <td>0</td>\n",
       "      <td>1</td>\n",
       "      <td>0</td>\n",
       "      <td>0</td>\n",
       "      <td>0</td>\n",
       "    </tr>\n",
       "    <tr>\n",
       "      <th>3</th>\n",
       "      <td>135000</td>\n",
       "      <td>5</td>\n",
       "      <td>51.9100</td>\n",
       "      <td>0.9163</td>\n",
       "      <td>0</td>\n",
       "      <td>1</td>\n",
       "      <td>0</td>\n",
       "      <td>1</td>\n",
       "      <td>0</td>\n",
       "      <td>0</td>\n",
       "      <td>0</td>\n",
       "    </tr>\n",
       "    <tr>\n",
       "      <th>4</th>\n",
       "      <td>370000</td>\n",
       "      <td>8</td>\n",
       "      <td>52.4332</td>\n",
       "      <td>-1.5664</td>\n",
       "      <td>0</td>\n",
       "      <td>1</td>\n",
       "      <td>0</td>\n",
       "      <td>0</td>\n",
       "      <td>0</td>\n",
       "      <td>1</td>\n",
       "      <td>0</td>\n",
       "    </tr>\n",
       "    <tr>\n",
       "      <th>...</th>\n",
       "      <td>...</td>\n",
       "      <td>...</td>\n",
       "      <td>...</td>\n",
       "      <td>...</td>\n",
       "      <td>...</td>\n",
       "      <td>...</td>\n",
       "      <td>...</td>\n",
       "      <td>...</td>\n",
       "      <td>...</td>\n",
       "      <td>...</td>\n",
       "      <td>...</td>\n",
       "    </tr>\n",
       "    <tr>\n",
       "      <th>19995</th>\n",
       "      <td>180000</td>\n",
       "      <td>9</td>\n",
       "      <td>52.5172</td>\n",
       "      <td>-2.1306</td>\n",
       "      <td>0</td>\n",
       "      <td>1</td>\n",
       "      <td>0</td>\n",
       "      <td>0</td>\n",
       "      <td>1</td>\n",
       "      <td>0</td>\n",
       "      <td>0</td>\n",
       "    </tr>\n",
       "    <tr>\n",
       "      <th>19996</th>\n",
       "      <td>310000</td>\n",
       "      <td>6</td>\n",
       "      <td>51.3483</td>\n",
       "      <td>1.3845</td>\n",
       "      <td>0</td>\n",
       "      <td>1</td>\n",
       "      <td>1</td>\n",
       "      <td>0</td>\n",
       "      <td>0</td>\n",
       "      <td>0</td>\n",
       "      <td>0</td>\n",
       "    </tr>\n",
       "    <tr>\n",
       "      <th>19997</th>\n",
       "      <td>650000</td>\n",
       "      <td>6</td>\n",
       "      <td>51.4702</td>\n",
       "      <td>-0.1147</td>\n",
       "      <td>0</td>\n",
       "      <td>0</td>\n",
       "      <td>0</td>\n",
       "      <td>1</td>\n",
       "      <td>0</td>\n",
       "      <td>0</td>\n",
       "      <td>0</td>\n",
       "    </tr>\n",
       "    <tr>\n",
       "      <th>19998</th>\n",
       "      <td>158000</td>\n",
       "      <td>4</td>\n",
       "      <td>52.3827</td>\n",
       "      <td>-1.6415</td>\n",
       "      <td>0</td>\n",
       "      <td>0</td>\n",
       "      <td>0</td>\n",
       "      <td>1</td>\n",
       "      <td>0</td>\n",
       "      <td>0</td>\n",
       "      <td>0</td>\n",
       "    </tr>\n",
       "    <tr>\n",
       "      <th>19999</th>\n",
       "      <td>177300</td>\n",
       "      <td>5</td>\n",
       "      <td>51.5445</td>\n",
       "      <td>0.6969</td>\n",
       "      <td>0</td>\n",
       "      <td>0</td>\n",
       "      <td>0</td>\n",
       "      <td>1</td>\n",
       "      <td>0</td>\n",
       "      <td>0</td>\n",
       "      <td>0</td>\n",
       "    </tr>\n",
       "  </tbody>\n",
       "</table>\n",
       "<p>19991 rows × 11 columns</p>\n",
       "</div>"
      ],
      "text/plain": [
       "        Price  Month                                 Latitude  \\\n",
       "0       72500      4                                  54.5575   \n",
       "1      110000      3                                  53.0079   \n",
       "2      261000      3                                  50.8005   \n",
       "3      135000      5                                  51.9100   \n",
       "4      370000      8                                  52.4332   \n",
       "...       ...    ...                                      ...   \n",
       "19995  180000      9                                  52.5172   \n",
       "19996  310000      6                                  51.3483   \n",
       "19997  650000      6                                  51.4702   \n",
       "19998  158000      4                                  52.3827   \n",
       "19999  177300      5                                  51.5445   \n",
       "\n",
       "                                     Longitude  Building_Age  Tenure  \\\n",
       "0                                      -0.9597             0       1   \n",
       "1                                      -2.1951             0       1   \n",
       "2                                      -1.1029             0       0   \n",
       "3                                       0.9163             0       1   \n",
       "4                                      -1.5664             0       1   \n",
       "...                                        ...           ...     ...   \n",
       "19995                                  -2.1306             0       1   \n",
       "19996                                   1.3845             0       1   \n",
       "19997                                  -0.1147             0       0   \n",
       "19998                                  -1.6415             0       0   \n",
       "19999                                   0.6969             0       0   \n",
       "\n",
       "       Property_Type_D  Property_Type_F  Property_Type_O  Property_Type_S  \\\n",
       "0                    0                0                0                0   \n",
       "1                    0                0                0                1   \n",
       "2                    0                1                0                0   \n",
       "3                    0                1                0                0   \n",
       "4                    0                0                0                1   \n",
       "...                ...              ...              ...              ...   \n",
       "19995                0                0                1                0   \n",
       "19996                1                0                0                0   \n",
       "19997                0                1                0                0   \n",
       "19998                0                1                0                0   \n",
       "19999                0                1                0                0   \n",
       "\n",
       "       Property_Type_T  \n",
       "0                    1  \n",
       "1                    0  \n",
       "2                    0  \n",
       "3                    0  \n",
       "4                    0  \n",
       "...                ...  \n",
       "19995                0  \n",
       "19996                0  \n",
       "19997                0  \n",
       "19998                0  \n",
       "19999                0  \n",
       "\n",
       "[19991 rows x 11 columns]"
      ]
     },
     "execution_count": 16,
     "metadata": {},
     "output_type": "execute_result"
    }
   ],
   "source": [
    "df_cleaned = pd.get_dummies(df_numeric2, columns = ['Property_Type'])\n",
    "\n",
    "df_cleaned"
   ]
  },
  {
   "cell_type": "code",
   "execution_count": 17,
   "id": "f6ef6704-32b9-4387-bf45-640bf1370da9",
   "metadata": {},
   "outputs": [
    {
     "name": "stdout",
     "output_type": "stream",
     "text": [
      "<class 'pandas.core.frame.DataFrame'>\n",
      "Int64Index: 19991 entries, 0 to 19999\n",
      "Data columns (total 11 columns):\n",
      " #   Column           Non-Null Count  Dtype  \n",
      "---  ------           --------------  -----  \n",
      " 0   Price            19991 non-null  int64  \n",
      " 1   Month            19991 non-null  int64  \n",
      " 2   Latitude         19991 non-null  float64\n",
      " 3   Longitude        19991 non-null  float64\n",
      " 4   Building_Age     19991 non-null  uint8  \n",
      " 5   Tenure           19991 non-null  uint8  \n",
      " 6   Property_Type_D  19991 non-null  uint8  \n",
      " 7   Property_Type_F  19991 non-null  uint8  \n",
      " 8   Property_Type_O  19991 non-null  uint8  \n",
      " 9   Property_Type_S  19991 non-null  uint8  \n",
      " 10  Property_Type_T  19991 non-null  uint8  \n",
      "dtypes: float64(2), int64(2), uint8(7)\n",
      "memory usage: 917.6 KB\n"
     ]
    }
   ],
   "source": [
    "# check out the new dataFrame\n",
    "df_cleaned.info()"
   ]
  },
  {
   "cell_type": "code",
   "execution_count": 18,
   "id": "b701ca7a-31c1-4424-888c-ee53cab209bd",
   "metadata": {},
   "outputs": [
    {
     "data": {
      "text/html": [
       "<div>\n",
       "<style scoped>\n",
       "    .dataframe tbody tr th:only-of-type {\n",
       "        vertical-align: middle;\n",
       "    }\n",
       "\n",
       "    .dataframe tbody tr th {\n",
       "        vertical-align: top;\n",
       "    }\n",
       "\n",
       "    .dataframe thead th {\n",
       "        text-align: right;\n",
       "    }\n",
       "</style>\n",
       "<table border=\"1\" class=\"dataframe\">\n",
       "  <thead>\n",
       "    <tr style=\"text-align: right;\">\n",
       "      <th></th>\n",
       "      <th>Price</th>\n",
       "      <th>Month</th>\n",
       "      <th>Latitude</th>\n",
       "      <th>Longitude</th>\n",
       "      <th>Building_Age</th>\n",
       "      <th>Tenure</th>\n",
       "      <th>Property_Type_D</th>\n",
       "      <th>Property_Type_F</th>\n",
       "      <th>Property_Type_O</th>\n",
       "      <th>Property_Type_S</th>\n",
       "      <th>Property_Type_T</th>\n",
       "    </tr>\n",
       "  </thead>\n",
       "  <tbody>\n",
       "    <tr>\n",
       "      <th>count</th>\n",
       "      <td>19,991.0000</td>\n",
       "      <td>19,991.0000</td>\n",
       "      <td>19,991.0000</td>\n",
       "      <td>19,991.0000</td>\n",
       "      <td>19,991.0000</td>\n",
       "      <td>19,991.0000</td>\n",
       "      <td>19,991.0000</td>\n",
       "      <td>19,991.0000</td>\n",
       "      <td>19,991.0000</td>\n",
       "      <td>19,991.0000</td>\n",
       "      <td>19,991.0000</td>\n",
       "    </tr>\n",
       "    <tr>\n",
       "      <th>mean</th>\n",
       "      <td>399,903.8353</td>\n",
       "      <td>5.5356</td>\n",
       "      <td>52.3295</td>\n",
       "      <td>-1.1868</td>\n",
       "      <td>0.0316</td>\n",
       "      <td>0.7863</td>\n",
       "      <td>0.2420</td>\n",
       "      <td>0.1587</td>\n",
       "      <td>0.0413</td>\n",
       "      <td>0.2712</td>\n",
       "      <td>0.2867</td>\n",
       "    </tr>\n",
       "    <tr>\n",
       "      <th>std</th>\n",
       "      <td>1,687,832.1083</td>\n",
       "      <td>3.0103</td>\n",
       "      <td>1.1577</td>\n",
       "      <td>1.2522</td>\n",
       "      <td>0.1748</td>\n",
       "      <td>0.4100</td>\n",
       "      <td>0.4283</td>\n",
       "      <td>0.3654</td>\n",
       "      <td>0.1990</td>\n",
       "      <td>0.4446</td>\n",
       "      <td>0.4522</td>\n",
       "    </tr>\n",
       "    <tr>\n",
       "      <th>min</th>\n",
       "      <td>100.0000</td>\n",
       "      <td>1.0000</td>\n",
       "      <td>50.0556</td>\n",
       "      <td>-5.6918</td>\n",
       "      <td>0.0000</td>\n",
       "      <td>0.0000</td>\n",
       "      <td>0.0000</td>\n",
       "      <td>0.0000</td>\n",
       "      <td>0.0000</td>\n",
       "      <td>0.0000</td>\n",
       "      <td>0.0000</td>\n",
       "    </tr>\n",
       "    <tr>\n",
       "      <th>25%</th>\n",
       "      <td>175,000.0000</td>\n",
       "      <td>3.0000</td>\n",
       "      <td>51.4317</td>\n",
       "      <td>-2.0964</td>\n",
       "      <td>0.0000</td>\n",
       "      <td>1.0000</td>\n",
       "      <td>0.0000</td>\n",
       "      <td>0.0000</td>\n",
       "      <td>0.0000</td>\n",
       "      <td>0.0000</td>\n",
       "      <td>0.0000</td>\n",
       "    </tr>\n",
       "    <tr>\n",
       "      <th>50%</th>\n",
       "      <td>273,000.0000</td>\n",
       "      <td>6.0000</td>\n",
       "      <td>52.0812</td>\n",
       "      <td>-1.2341</td>\n",
       "      <td>0.0000</td>\n",
       "      <td>1.0000</td>\n",
       "      <td>0.0000</td>\n",
       "      <td>0.0000</td>\n",
       "      <td>0.0000</td>\n",
       "      <td>0.0000</td>\n",
       "      <td>0.0000</td>\n",
       "    </tr>\n",
       "    <tr>\n",
       "      <th>75%</th>\n",
       "      <td>425,000.0000</td>\n",
       "      <td>8.0000</td>\n",
       "      <td>53.3817</td>\n",
       "      <td>-0.1914</td>\n",
       "      <td>0.0000</td>\n",
       "      <td>1.0000</td>\n",
       "      <td>0.0000</td>\n",
       "      <td>0.0000</td>\n",
       "      <td>0.0000</td>\n",
       "      <td>1.0000</td>\n",
       "      <td>1.0000</td>\n",
       "    </tr>\n",
       "    <tr>\n",
       "      <th>max</th>\n",
       "      <td>130,500,000.0000</td>\n",
       "      <td>12.0000</td>\n",
       "      <td>55.7725</td>\n",
       "      <td>1.7551</td>\n",
       "      <td>1.0000</td>\n",
       "      <td>1.0000</td>\n",
       "      <td>1.0000</td>\n",
       "      <td>1.0000</td>\n",
       "      <td>1.0000</td>\n",
       "      <td>1.0000</td>\n",
       "      <td>1.0000</td>\n",
       "    </tr>\n",
       "  </tbody>\n",
       "</table>\n",
       "</div>"
      ],
      "text/plain": [
       "                                         Price  \\\n",
       "count                              19,991.0000   \n",
       "mean                              399,903.8353   \n",
       "std                             1,687,832.1083   \n",
       "min                                   100.0000   \n",
       "25%                               175,000.0000   \n",
       "50%                               273,000.0000   \n",
       "75%                               425,000.0000   \n",
       "max                           130,500,000.0000   \n",
       "\n",
       "                                         Month  \\\n",
       "count                              19,991.0000   \n",
       "mean                                    5.5356   \n",
       "std                                     3.0103   \n",
       "min                                     1.0000   \n",
       "25%                                     3.0000   \n",
       "50%                                     6.0000   \n",
       "75%                                     8.0000   \n",
       "max                                    12.0000   \n",
       "\n",
       "                                      Latitude  \\\n",
       "count                              19,991.0000   \n",
       "mean                                   52.3295   \n",
       "std                                     1.1577   \n",
       "min                                    50.0556   \n",
       "25%                                    51.4317   \n",
       "50%                                    52.0812   \n",
       "75%                                    53.3817   \n",
       "max                                    55.7725   \n",
       "\n",
       "                                     Longitude  \\\n",
       "count                              19,991.0000   \n",
       "mean                                   -1.1868   \n",
       "std                                     1.2522   \n",
       "min                                    -5.6918   \n",
       "25%                                    -2.0964   \n",
       "50%                                    -1.2341   \n",
       "75%                                    -0.1914   \n",
       "max                                     1.7551   \n",
       "\n",
       "                                  Building_Age  \\\n",
       "count                              19,991.0000   \n",
       "mean                                    0.0316   \n",
       "std                                     0.1748   \n",
       "min                                     0.0000   \n",
       "25%                                     0.0000   \n",
       "50%                                     0.0000   \n",
       "75%                                     0.0000   \n",
       "max                                     1.0000   \n",
       "\n",
       "                                        Tenure  \\\n",
       "count                              19,991.0000   \n",
       "mean                                    0.7863   \n",
       "std                                     0.4100   \n",
       "min                                     0.0000   \n",
       "25%                                     1.0000   \n",
       "50%                                     1.0000   \n",
       "75%                                     1.0000   \n",
       "max                                     1.0000   \n",
       "\n",
       "                               Property_Type_D  \\\n",
       "count                              19,991.0000   \n",
       "mean                                    0.2420   \n",
       "std                                     0.4283   \n",
       "min                                     0.0000   \n",
       "25%                                     0.0000   \n",
       "50%                                     0.0000   \n",
       "75%                                     0.0000   \n",
       "max                                     1.0000   \n",
       "\n",
       "                               Property_Type_F  \\\n",
       "count                              19,991.0000   \n",
       "mean                                    0.1587   \n",
       "std                                     0.3654   \n",
       "min                                     0.0000   \n",
       "25%                                     0.0000   \n",
       "50%                                     0.0000   \n",
       "75%                                     0.0000   \n",
       "max                                     1.0000   \n",
       "\n",
       "                               Property_Type_O  \\\n",
       "count                              19,991.0000   \n",
       "mean                                    0.0413   \n",
       "std                                     0.1990   \n",
       "min                                     0.0000   \n",
       "25%                                     0.0000   \n",
       "50%                                     0.0000   \n",
       "75%                                     0.0000   \n",
       "max                                     1.0000   \n",
       "\n",
       "                               Property_Type_S  \\\n",
       "count                              19,991.0000   \n",
       "mean                                    0.2712   \n",
       "std                                     0.4446   \n",
       "min                                     0.0000   \n",
       "25%                                     0.0000   \n",
       "50%                                     0.0000   \n",
       "75%                                     1.0000   \n",
       "max                                     1.0000   \n",
       "\n",
       "                               Property_Type_T  \n",
       "count                              19,991.0000  \n",
       "mean                                    0.2867  \n",
       "std                                     0.4522  \n",
       "min                                     0.0000  \n",
       "25%                                     0.0000  \n",
       "50%                                     0.0000  \n",
       "75%                                     1.0000  \n",
       "max                                     1.0000  "
      ]
     },
     "execution_count": 18,
     "metadata": {},
     "output_type": "execute_result"
    }
   ],
   "source": [
    "df_cleaned.describe()"
   ]
  },
  {
   "cell_type": "code",
   "execution_count": 19,
   "id": "22ecee86-fbfa-45df-8a79-18348435c0c7",
   "metadata": {},
   "outputs": [
    {
     "data": {
      "text/plain": [
       "Price              0\n",
       "Month              0\n",
       "Latitude           0\n",
       "Longitude          0\n",
       "Building_Age       0\n",
       "Tenure             0\n",
       "Property_Type_D    0\n",
       "Property_Type_F    0\n",
       "Property_Type_O    0\n",
       "Property_Type_S    0\n",
       "Property_Type_T    0\n",
       "dtype: int64"
      ]
     },
     "execution_count": 19,
     "metadata": {},
     "output_type": "execute_result"
    }
   ],
   "source": [
    "df_cleaned.isnull().sum()"
   ]
  },
  {
   "cell_type": "code",
   "execution_count": 20,
   "id": "f1912cab-142f-4e45-82d1-267cebd48fa9",
   "metadata": {},
   "outputs": [
    {
     "data": {
      "image/png": "[encoded data removed]",
      "text/plain": [
       "<Figure size 1080x720 with 12 Axes>"
      ]
     },
     "metadata": {
      "needs_background": "light"
     },
     "output_type": "display_data"
    }
   ],
   "source": [
    "df_histogram = df_cleaned.hist(figsize = (15,10))"
   ]
  },
  {
   "cell_type": "code",
   "execution_count": 21,
   "id": "dd031330-5c03-4471-a36a-0d9f5af08467",
   "metadata": {},
   "outputs": [
    {
     "name": "stderr",
     "output_type": "stream",
     "text": [
      "/opt/conda/envs/sds2021/lib/python3.9/site-packages/seaborn/distributions.py:2557: FutureWarning: `distplot` is a deprecated function and will be removed in a future version. Please adapt your code to use either `displot` (a figure-level function with similar flexibility) or `histplot` (an axes-level function for histograms).\n",
      "  warnings.warn(msg, FutureWarning)\n"
     ]
    },
    {
     "data": {
      "image/png": "[encoded data removed]",
      "text/plain": [
       "<Figure size 432x288 with 1 Axes>"
      ]
     },
     "metadata": {},
     "output_type": "display_data"
    },
    {
     "name": "stderr",
     "output_type": "stream",
     "text": [
      "/opt/conda/envs/sds2021/lib/python3.9/site-packages/seaborn/distributions.py:2557: FutureWarning: `distplot` is a deprecated function and will be removed in a future version. Please adapt your code to use either `displot` (a figure-level function with similar flexibility) or `histplot` (an axes-level function for histograms).\n",
      "  warnings.warn(msg, FutureWarning)\n"
     ]
    },
    {
     "data": {
      "image/png": "[encoded data removed]",
      "text/plain": [
       "<Figure size 432x288 with 1 Axes>"
      ]
     },
     "metadata": {},
     "output_type": "display_data"
    }
   ],
   "source": [
    "x = df_cleaned.Price\n",
    "sns.set_style('whitegrid')\n",
    "sns.distplot(x)\n",
    "plt.show()\n",
    "\n",
    "# Price_log = np.log(df_cleaned.Price)\n",
    "# x = Price_log\n",
    "# sns.distplot(x)\n",
    "# plt.show()\n",
    "\n",
    "df_cleaned['Price_log'] = np.log(df_cleaned.Price)\n",
    "x = df_cleaned.Price_log\n",
    "sns.distplot(x)\n",
    "plt.show()\n",
    "\n",
    "df_cleaned = df_cleaned.drop(['Price'],axis=1,)"
   ]
  },
  {
   "cell_type": "markdown",
   "id": "d92547a0-c6f7-41b9-a730-4701220b6127",
   "metadata": {},
   "source": [
    "## 5. Methodology"
   ]
  },
  {
   "cell_type": "markdown",
   "id": "b43f19cd-4885-4dd9-9a1e-609c6f5d5bd5",
   "metadata": {},
   "source": [
    "### 5.1 Set Train Validation and Test Subsets"
   ]
  },
  {
   "cell_type": "markdown",
   "id": "38f3d483-07b6-45fb-b6cb-a7837be0fef7",
   "metadata": {},
   "source": [
    "By default, train_test_split will split the data according to a 75:25 split. Other proportions can be specified, check out the documentation for details.\n",
    "Remember that the split should be random in order to avoid selection bias. Here, we set random_state=100 to guarantee reproducibility.\n",
    "\n"
   ]
  },
  {
   "cell_type": "code",
   "execution_count": 22,
   "id": "bd68ca60-a71c-42a9-a657-5837684ca47c",
   "metadata": {},
   "outputs": [
    {
     "name": "stdout",
     "output_type": "stream",
     "text": [
      "(19991, 10)\n",
      "(19991,)\n"
     ]
    }
   ],
   "source": [
    "X = df_cleaned.drop(['Price_log'], axis=1)\n",
    "y = df_cleaned['Price_log']\n",
    "\n",
    "print(X.shape)\n",
    "print(y.shape)"
   ]
  },
  {
   "cell_type": "markdown",
   "id": "1e42ebd4-3069-443f-8de1-d1e93d111021",
   "metadata": {},
   "source": [
    "Split your data into train, dev and test sets"
   ]
  },
  {
   "cell_type": "code",
   "execution_count": 23,
   "id": "0b3b5c5e-9b12-45d8-b985-df13d1807ecb",
   "metadata": {},
   "outputs": [],
   "source": [
    "# We apply train_test_split twice to obtain the three train, dev and test sets\n",
    "X_train, X_test, y_train, y_test = train_test_split(X, y, test_size=0.3, random_state=1)\n",
    "X_val, X_test, y_val, y_test = train_test_split(X_test, y_test, test_size=0.5, random_state=1024)"
   ]
  },
  {
   "cell_type": "code",
   "execution_count": 24,
   "id": "d8532dd4-06ea-44a9-bad8-f641e860e45f",
   "metadata": {},
   "outputs": [
    {
     "name": "stdout",
     "output_type": "stream",
     "text": [
      "(13993, 10)\n",
      "(2999, 10)\n",
      "(2999, 10)\n"
     ]
    }
   ],
   "source": [
    "print(X_train.shape)\n",
    "print(X_val.shape)\n",
    "print(X_test.shape)"
   ]
  },
  {
   "cell_type": "markdown",
   "id": "42ee1671-7110-4cf6-833c-694d0642a251",
   "metadata": {},
   "source": [
    "### 5.2 Multicollinearity Checking"
   ]
  },
  {
   "cell_type": "markdown",
   "id": "13bf531b-b807-49ab-8390-798b6cf9f515",
   "metadata": {},
   "source": [
    "In regression, `multicollinearity` emerges when two or more variables, which are highly correlated are included in a model. It can emerge even when each pair of variables involved are not colinear. For example, think of the four dummy variables relating to seasons in the `bike_rental_numeric` dataset.  \n",
    "\n",
    "You can check the colinearity between attributes using a correlation matrix as below. Think of these two questions:\n",
    "\n",
    "- **What can you get from this plot? For example, which pair of variables are highly correlated, and can you explain it?**\n",
    "- **Can you use the correlation matrix to deal with multicolinearity, for example, by removing one of the two variables if their correlation is above 0.75?** (*Hint*: a short answer is NO)"
   ]
  },
  {
   "cell_type": "code",
   "execution_count": 25,
   "id": "b6d986d0-f9ca-4ab2-9127-2f3fb1cb2e59",
   "metadata": {},
   "outputs": [
    {
     "data": {
      "text/plain": [
       "Text(0.5, 1.0, 'Correlation Matrix')"
      ]
     },
     "execution_count": 25,
     "metadata": {},
     "output_type": "execute_result"
    },
    {
     "data": {
      "image/png": "[encoded data removed]",
      "text/plain": [
       "<Figure size 1368x1080 with 2 Axes>"
      ]
     },
     "metadata": {},
     "output_type": "display_data"
    }
   ],
   "source": [
    "df = df_cleaned\n",
    "plt.rcParams[\"axes.grid\"] = False\n",
    "f = plt.figure(figsize=(19, 15))\n",
    "plt.matshow(df.corr(), fignum=f.number)\n",
    "plt.xticks(range(df.shape[1]), df.columns, fontsize=14, rotation=45)\n",
    "plt.yticks(range(df.shape[1]), df.columns, fontsize=14)\n",
    "cb = plt.colorbar()\n",
    "cb.ax.tick_params(labelsize=14)\n",
    "plt.title('Correlation Matrix', fontsize=16)"
   ]
  },
  {
   "cell_type": "markdown",
   "id": "c371bd48-1ff9-44c2-b4ef-caee4719fa3d",
   "metadata": {},
   "source": [
    "### 5.3 Linear Regression with VIF"
   ]
  },
  {
   "cell_type": "markdown",
   "id": "13948348-ccf7-4c05-86bc-4840756a2933",
   "metadata": {},
   "source": [
    "\n",
    "If in doubt, always start with a simple model. It is quicker to build and test. If it suffers from high bias, then try a more complicated machine learning model. \n",
    "\n",
    "The Variance Inflation Factor (VIF) is a measure of multicolinearity among predictors within a multiple regression task. It is the quotient of the variance in a model with multiple predictors by the variance of a model with a single predictor. More explanation of the theory can be found here.\n",
    "\n",
    "Steps for using VIF to deal with multicolineartiy are:\n",
    "\n",
    "Initialise L as the list of independent variables. (HINT: the response variable is not needed here)\n",
    "Calculate the VIF for each variable in L. (HINT: the order of computing VIF is irrelevant).\n",
    "If the highest VIF is larger than the threshold, remove the variable from the list L.\n",
    "Repeat Step 2-3, until no VIF is larger than the threshold.\n",
    "Return L.\n",
    "Below is an example of using VIF on the bike_rental dataset. Note that the statsmodels package is used."
   ]
  },
  {
   "cell_type": "code",
   "execution_count": 26,
   "id": "3e0bd1ca-9c17-4c0e-b3ab-49fedd950e84",
   "metadata": {},
   "outputs": [],
   "source": [
    "# VIF Calculation\n",
    "\n",
    "from statsmodels.stats.outliers_influence import variance_inflation_factor \n",
    "from statsmodels.tools.tools import add_constant\n",
    "\n",
    "def drop_column_using_vif_(df, list_var_not_to_remove=None, thresh=5):\n",
    "    '''\n",
    "    Calculates VIF each feature in a pandas dataframe, and repeatedly drop the columns with the highest VIF\n",
    "    A constant must be added to variance_inflation_factor or the results will be incorrect\n",
    "\n",
    "    :param df: the pandas dataframe containing only the predictor features, not the response variable\n",
    "    :param list_var_not_to_remove: the list of variables that should not be removed even though it has a high VIF. For example, dummy (or indicator) variables represent a categorical variable with three or more categories.\n",
    "    :param thresh: the max VIF value before the feature is removed from the dataframe\n",
    "    :return: dataframe with multicollinear features removed\n",
    "    '''\n",
    "    while True:\n",
    "        # adding a constatnt item to the data\n",
    "        df_with_const = add_constant(df)\n",
    "\n",
    "        vif_df = pd.Series([variance_inflation_factor(df_with_const.values, i) \n",
    "               for i in range(df_with_const.shape[1])], name= \"VIF\",\n",
    "              index=df_with_const.columns).to_frame()\n",
    "\n",
    "        # drop the const as const should not be removed\n",
    "        vif_df = vif_df.drop('const')\n",
    "        \n",
    "        # drop the variables that should not be removed\n",
    "        if list_var_not_to_remove is not None:\n",
    "            vif_df = vif_df.drop(list_var_not_to_remove)\n",
    "            \n",
    "        print('Max VIF:', vif_df.VIF.max())\n",
    "        \n",
    "        # if the largest VIF is above the thresh, remove a variable with the largest VIF\n",
    "        if vif_df.VIF.max() > thresh:\n",
    "            # If there are multiple variables with the maximum VIF, choose the first one\n",
    "            index_to_drop = vif_df.index[vif_df.VIF == vif_df.VIF.max()].tolist()[0]\n",
    "            print('Dropping: {}'.format(index_to_drop))\n",
    "            df = df.drop(columns = index_to_drop)\n",
    "        else:\n",
    "            # No VIF is above threshold. Exit the loop\n",
    "            break\n",
    "\n",
    "    return df"
   ]
  },
  {
   "cell_type": "code",
   "execution_count": 27,
   "id": "39837c68-8d28-4a98-9240-af3ef27a2aea",
   "metadata": {},
   "outputs": [
    {
     "name": "stdout",
     "output_type": "stream",
     "text": [
      "Max VIF: inf\n",
      "Dropping: Property_Type_D\n",
      "Max VIF: 3.680428231399136\n",
      "The columns remaining after VIF selection are:\n",
      "Index(['Month', 'Latitude', 'Longitude', 'Building_Age', 'Tenure',\n",
      "       'Property_Type_F', 'Property_Type_O', 'Property_Type_S',\n",
      "       'Property_Type_T'],\n",
      "      dtype='object')\n"
     ]
    },
    {
     "name": "stderr",
     "output_type": "stream",
     "text": [
      "/opt/conda/envs/sds2021/lib/python3.9/site-packages/statsmodels/tsa/tsatools.py:142: FutureWarning: In a future version of pandas all arguments of concat except for the argument 'objs' will be keyword-only\n",
      "  x = pd.concat(x[::order], 1)\n",
      "/opt/conda/envs/sds2021/lib/python3.9/site-packages/statsmodels/regression/linear_model.py:1715: RuntimeWarning: divide by zero encountered in double_scalars\n",
      "  return 1 - self.ssr/self.centered_tss\n",
      "/opt/conda/envs/sds2021/lib/python3.9/site-packages/statsmodels/stats/outliers_influence.py:193: RuntimeWarning: divide by zero encountered in double_scalars\n",
      "  vif = 1. / (1. - r_squared_i)\n"
     ]
    }
   ],
   "source": [
    "# using VIF on the cleaned price paid dataset\n",
    "\n",
    "train_x_VIF = drop_column_using_vif_(X_train, thresh=5)\n",
    "print(\"The columns remaining after VIF selection are:\")\n",
    "print(train_x_VIF.columns)"
   ]
  },
  {
   "cell_type": "markdown",
   "id": "02a02e9e-8014-4cd1-a388-43361d0d84e6",
   "metadata": {},
   "source": [
    "Now we can fit a linear regression model after dealing with the multicolinearity, and we will do it using the sklearn package.\n",
    "\n",
    "Just like clustering analysis in sklearn, we will run the regression model using the .fit() function. Make sure you get the variables the right way around."
   ]
  },
  {
   "cell_type": "code",
   "execution_count": 28,
   "id": "b7a8af9c-563d-4a38-b5e1-f578164a8be5",
   "metadata": {},
   "outputs": [
    {
     "data": {
      "text/plain": [
       "LinearRegression()"
      ]
     },
     "execution_count": 28,
     "metadata": {},
     "output_type": "execute_result"
    }
   ],
   "source": [
    "lr = LinearRegression()\n",
    "lr.fit(X=train_x_VIF, y=y_train)"
   ]
  },
  {
   "cell_type": "markdown",
   "id": "beb2ab51-d096-43fd-bd2f-39ca680e63cc",
   "metadata": {},
   "source": [
    "Now that we've created our fit, it's time to look at the structure of the model and how well it fits the data.\n",
    "\n",
    "There are a number of ways to do this. In the first instance, as with any linear regression model, we want to get a grip on the coefficients and intercept of the model. Helpfully, these two functions are built into the LinearRegression object. Consult the documentation and see if you can find out how to extract these.\n",
    "\n",
    "generate the intercept and coefficient terms\n"
   ]
  },
  {
   "cell_type": "code",
   "execution_count": 29,
   "id": "6859c512-253e-4847-aa02-bbddb1634efc",
   "metadata": {},
   "outputs": [
    {
     "name": "stdout",
     "output_type": "stream",
     "text": [
      "Constant term:  26.087078924112365\n",
      "               var                                     coef\n",
      "0            Month                                   0.0006\n",
      "1         Latitude                                  -0.2514\n",
      "2        Longitude                                   0.1086\n",
      "3     Building_Age                                   0.1023\n",
      "4           Tenure                                   0.1543\n",
      "5  Property_Type_F                                  -0.6124\n",
      "6  Property_Type_O                                  -0.5511\n",
      "7  Property_Type_S                                  -0.4428\n",
      "8  Property_Type_T                                  -0.6107\n"
     ]
    }
   ],
   "source": [
    "print('Constant term: ', lr.intercept_)\n",
    "df_coef_lr_VIF = pd.DataFrame({\"var\": train_x_VIF.columns.values, \"coef\":lr.coef_})\n",
    "print(df_coef_lr_VIF)"
   ]
  },
  {
   "cell_type": "markdown",
   "id": "6f09ea87-c730-4556-a584-77fc65d8d52c",
   "metadata": {},
   "source": [
    "The code below will generate the R2 score for us. Run the code and see how well the model performed.\n",
    "\n",
    "It is not easy to get a comprehensive summary of the regression model using sklearn package. We recommend using the statsmodel package, which has a nice summary() function."
   ]
  },
  {
   "cell_type": "code",
   "execution_count": 30,
   "id": "a0206835-444a-4951-aede-5503d235d4cc",
   "metadata": {},
   "outputs": [
    {
     "name": "stderr",
     "output_type": "stream",
     "text": [
      "/opt/conda/envs/sds2021/lib/python3.9/site-packages/statsmodels/tsa/tsatools.py:142: FutureWarning: In a future version of pandas all arguments of concat except for the argument 'objs' will be keyword-only\n",
      "  x = pd.concat(x[::order], 1)\n"
     ]
    },
    {
     "data": {
      "text/html": [
       "<table class=\"simpletable\">\n",
       "<caption>OLS Regression Results</caption>\n",
       "<tr>\n",
       "  <th>Dep. Variable:</th>        <td>Price_log</td>    <th>  R-squared:         </th> <td>   0.318</td> \n",
       "</tr>\n",
       "<tr>\n",
       "  <th>Model:</th>                   <td>OLS</td>       <th>  Adj. R-squared:    </th> <td>   0.318</td> \n",
       "</tr>\n",
       "<tr>\n",
       "  <th>Method:</th>             <td>Least Squares</td>  <th>  F-statistic:       </th> <td>   725.3</td> \n",
       "</tr>\n",
       "<tr>\n",
       "  <th>Date:</th>             <td>Thu, 21 Apr 2022</td> <th>  Prob (F-statistic):</th>  <td>  0.00</td>  \n",
       "</tr>\n",
       "<tr>\n",
       "  <th>Time:</th>                 <td>13:16:36</td>     <th>  Log-Likelihood:    </th> <td> -13402.</td> \n",
       "</tr>\n",
       "<tr>\n",
       "  <th>No. Observations:</th>      <td> 13993</td>      <th>  AIC:               </th> <td>2.682e+04</td>\n",
       "</tr>\n",
       "<tr>\n",
       "  <th>Df Residuals:</th>          <td> 13983</td>      <th>  BIC:               </th> <td>2.690e+04</td>\n",
       "</tr>\n",
       "<tr>\n",
       "  <th>Df Model:</th>              <td>     9</td>      <th>                     </th>     <td> </td>    \n",
       "</tr>\n",
       "<tr>\n",
       "  <th>Covariance Type:</th>      <td>nonrobust</td>    <th>                     </th>     <td> </td>    \n",
       "</tr>\n",
       "</table>\n",
       "<table class=\"simpletable\">\n",
       "<tr>\n",
       "         <td></td>            <th>coef</th>     <th>std err</th>      <th>t</th>      <th>P>|t|</th>  <th>[0.025</th>    <th>0.975]</th>  \n",
       "</tr>\n",
       "<tr>\n",
       "  <th>const</th>           <td>   26.0871</td> <td>    0.256</td> <td>  102.080</td> <td> 0.000</td> <td>   25.586</td> <td>   26.588</td>\n",
       "</tr>\n",
       "<tr>\n",
       "  <th>Month</th>           <td>    0.0006</td> <td>    0.002</td> <td>    0.312</td> <td> 0.755</td> <td>   -0.003</td> <td>    0.004</td>\n",
       "</tr>\n",
       "<tr>\n",
       "  <th>Latitude</th>        <td>   -0.2514</td> <td>    0.005</td> <td>  -51.989</td> <td> 0.000</td> <td>   -0.261</td> <td>   -0.242</td>\n",
       "</tr>\n",
       "<tr>\n",
       "  <th>Longitude</th>       <td>    0.1086</td> <td>    0.004</td> <td>   24.631</td> <td> 0.000</td> <td>    0.100</td> <td>    0.117</td>\n",
       "</tr>\n",
       "<tr>\n",
       "  <th>Building_Age</th>    <td>    0.1023</td> <td>    0.031</td> <td>    3.273</td> <td> 0.001</td> <td>    0.041</td> <td>    0.164</td>\n",
       "</tr>\n",
       "<tr>\n",
       "  <th>Tenure</th>          <td>    0.1543</td> <td>    0.023</td> <td>    6.789</td> <td> 0.000</td> <td>    0.110</td> <td>    0.199</td>\n",
       "</tr>\n",
       "<tr>\n",
       "  <th>Property_Type_F</th> <td>   -0.6124</td> <td>    0.028</td> <td>  -21.850</td> <td> 0.000</td> <td>   -0.667</td> <td>   -0.558</td>\n",
       "</tr>\n",
       "<tr>\n",
       "  <th>Property_Type_O</th> <td>   -0.5511</td> <td>    0.029</td> <td>  -19.127</td> <td> 0.000</td> <td>   -0.608</td> <td>   -0.495</td>\n",
       "</tr>\n",
       "<tr>\n",
       "  <th>Property_Type_S</th> <td>   -0.4428</td> <td>    0.015</td> <td>  -29.546</td> <td> 0.000</td> <td>   -0.472</td> <td>   -0.413</td>\n",
       "</tr>\n",
       "<tr>\n",
       "  <th>Property_Type_T</th> <td>   -0.6107</td> <td>    0.015</td> <td>  -41.219</td> <td> 0.000</td> <td>   -0.640</td> <td>   -0.582</td>\n",
       "</tr>\n",
       "</table>\n",
       "<table class=\"simpletable\">\n",
       "<tr>\n",
       "  <th>Omnibus:</th>       <td>2968.795</td> <th>  Durbin-Watson:     </th>  <td>   2.003</td> \n",
       "</tr>\n",
       "<tr>\n",
       "  <th>Prob(Omnibus):</th>  <td> 0.000</td>  <th>  Jarque-Bera (JB):  </th> <td>115711.843</td>\n",
       "</tr>\n",
       "<tr>\n",
       "  <th>Skew:</th>           <td>-0.148</td>  <th>  Prob(JB):          </th>  <td>    0.00</td> \n",
       "</tr>\n",
       "<tr>\n",
       "  <th>Kurtosis:</th>       <td>17.085</td>  <th>  Cond. No.          </th>  <td>2.53e+03</td> \n",
       "</tr>\n",
       "</table><br/><br/>Notes:<br/>[1] Standard Errors assume that the covariance matrix of the errors is correctly specified.<br/>[2] The condition number is large, 2.53e+03. This might indicate that there are<br/>strong multicollinearity or other numerical problems."
      ],
      "text/plain": [
       "<class 'statsmodels.iolib.summary.Summary'>\n",
       "\"\"\"\n",
       "                            OLS Regression Results                            \n",
       "==============================================================================\n",
       "Dep. Variable:              Price_log   R-squared:                       0.318\n",
       "Model:                            OLS   Adj. R-squared:                  0.318\n",
       "Method:                 Least Squares   F-statistic:                     725.3\n",
       "Date:                Thu, 21 Apr 2022   Prob (F-statistic):               0.00\n",
       "Time:                        13:16:36   Log-Likelihood:                -13402.\n",
       "No. Observations:               13993   AIC:                         2.682e+04\n",
       "Df Residuals:                   13983   BIC:                         2.690e+04\n",
       "Df Model:                           9                                         \n",
       "Covariance Type:            nonrobust                                         \n",
       "===================================================================================\n",
       "                      coef    std err          t      P>|t|      [0.025      0.975]\n",
       "-----------------------------------------------------------------------------------\n",
       "const              26.0871      0.256    102.080      0.000      25.586      26.588\n",
       "Month               0.0006      0.002      0.312      0.755      -0.003       0.004\n",
       "Latitude           -0.2514      0.005    -51.989      0.000      -0.261      -0.242\n",
       "Longitude           0.1086      0.004     24.631      0.000       0.100       0.117\n",
       "Building_Age        0.1023      0.031      3.273      0.001       0.041       0.164\n",
       "Tenure              0.1543      0.023      6.789      0.000       0.110       0.199\n",
       "Property_Type_F    -0.6124      0.028    -21.850      0.000      -0.667      -0.558\n",
       "Property_Type_O    -0.5511      0.029    -19.127      0.000      -0.608      -0.495\n",
       "Property_Type_S    -0.4428      0.015    -29.546      0.000      -0.472      -0.413\n",
       "Property_Type_T    -0.6107      0.015    -41.219      0.000      -0.640      -0.582\n",
       "==============================================================================\n",
       "Omnibus:                     2968.795   Durbin-Watson:                   2.003\n",
       "Prob(Omnibus):                  0.000   Jarque-Bera (JB):           115711.843\n",
       "Skew:                          -0.148   Prob(JB):                         0.00\n",
       "Kurtosis:                      17.085   Cond. No.                     2.53e+03\n",
       "==============================================================================\n",
       "\n",
       "Notes:\n",
       "[1] Standard Errors assume that the covariance matrix of the errors is correctly specified.\n",
       "[2] The condition number is large, 2.53e+03. This might indicate that there are\n",
       "strong multicollinearity or other numerical problems.\n",
       "\"\"\""
      ]
     },
     "execution_count": 30,
     "metadata": {},
     "output_type": "execute_result"
    }
   ],
   "source": [
    "# fit a linear regression model using statsmodel\n",
    "regressor_OLS = sm.OLS(endog=y_train, exog=sm.add_constant(train_x_VIF)).fit()\n",
    "regressor_OLS.summary()"
   ]
  },
  {
   "cell_type": "markdown",
   "id": "6b1421f2-e0ae-459e-a7de-a2b27f054f0f",
   "metadata": {},
   "source": [
    "The R2 value of 0.811 is quite high, which means that 81.1% of the variance in the daily bike rental can be explained by the predictors used.\n",
    "\n",
    "The next step is interpreting this model. Regarding the humnidity, an increase of the humidity by 1% decreases the predicted bike rental count by 6.7672, when all other variables remain fixed. In terms of seasons, when it is fall, the predicted number of bike rental is 1120.6 higher compared to the spring season, when all other variables remain fixed. (So people like travelling by bicycle in fall more than in spring?)\n",
    "\n",
    "As a practice, can you interpret the other variables in this model?\n"
   ]
  },
  {
   "cell_type": "markdown",
   "id": "e1e2a273-f44d-4fb5-a88e-fa561df21183",
   "metadata": {},
   "source": [
    "in order to avoid overfitting, \n",
    "Now you can evaluate the model performance on the testing set.\n",
    "the difference is not significant"
   ]
  },
  {
   "cell_type": "code",
   "execution_count": 31,
   "id": "8d669d4b-11b2-4599-adab-a8d999430d20",
   "metadata": {},
   "outputs": [
    {
     "data": {
      "text/plain": [
       "0.3193522824147049"
      ]
     },
     "execution_count": 31,
     "metadata": {},
     "output_type": "execute_result"
    }
   ],
   "source": [
    "# select the same columns from X_test as train_x_VIF\n",
    "test_x_VIF = X_test[train_x_VIF.columns]\n",
    "\n",
    "# using the model.score function to get the R2 on the testing data\n",
    "lr.score(X=test_x_VIF, y=y_test)"
   ]
  },
  {
   "cell_type": "code",
   "execution_count": 32,
   "id": "97c13e5f-402d-4541-b4b7-15ac9bf71796",
   "metadata": {},
   "outputs": [
    {
     "data": {
      "text/plain": [
       "0.3238806077841293"
      ]
     },
     "execution_count": 32,
     "metadata": {},
     "output_type": "execute_result"
    }
   ],
   "source": [
    "# select the same columns from X_val as train_x_VIF\n",
    "val_x_VIF = X_val[train_x_VIF.columns]\n",
    "\n",
    "# using the model.score function to get the R2 on the testing data\n",
    "lr.score(X=val_x_VIF, y=y_val)"
   ]
  },
  {
   "cell_type": "markdown",
   "id": "c79e422f-89da-494c-b13e-cc8eaa4017cd",
   "metadata": {},
   "source": [
    "### 5.4 Linear regression with Lasso"
   ]
  },
  {
   "cell_type": "markdown",
   "id": "3d6b7f74-d6b2-4937-8f85-9fd5b4a5a853",
   "metadata": {},
   "source": [
    "Lasso (which means least absolute shrinkage and selection operator) is a regression method that performs both variable selection and regularisation (or penalty) in order to increase the prediction accuracy and interpretability of the regression model.\n",
    "\n",
    "In Lasso, the lambda (or alpha) parameter controls the strength of regularisation. If alpha=0, it is equivalent to an ordinary least square.\n",
    "\n",
    "Note that in the Lasso function provided by sklearn, the alpha value defaults to 1.0. But this value can be optimised.\n",
    "\n",
    "Please note that Lasso requires predictors to be normalised. This can be done using this function by setting normalize=True. Here, normalisation means subtracting the mean and dividing by the standard deviation."
   ]
  },
  {
   "cell_type": "code",
   "execution_count": 33,
   "id": "e6255bab-5196-4d3e-97b5-4bf097885b68",
   "metadata": {},
   "outputs": [
    {
     "data": {
      "text/plain": [
       "Lasso(max_iter=100000000.0, normalize=True)"
      ]
     },
     "execution_count": 33,
     "metadata": {},
     "output_type": "execute_result"
    }
   ],
   "source": [
    "# increase the max_iter to guarantee convergence\n",
    "lasso_model = sklearn.linear_model.Lasso(max_iter=10e7, normalize=True)\n",
    "lasso_model.fit(X=X_train, y=y_train)"
   ]
  },
  {
   "cell_type": "code",
   "execution_count": 34,
   "id": "f7ecf229-b839-47ec-bd65-b4b852ca233b",
   "metadata": {},
   "outputs": [
    {
     "data": {
      "text/plain": [
       "0.0"
      ]
     },
     "execution_count": 34,
     "metadata": {},
     "output_type": "execute_result"
    }
   ],
   "source": [
    "lasso_model.score(X=X_train, y=y_train)"
   ]
  },
  {
   "cell_type": "markdown",
   "id": "82b51bf2-210a-4cb6-b60b-d27f9edc0b57",
   "metadata": {},
   "source": [
    "It looks like the Lasso model has done a great job in fitting the data relationship in the training set.\n",
    "\n",
    "We can check out the coefficients using the following code."
   ]
  },
  {
   "cell_type": "code",
   "execution_count": 35,
   "id": "36f8c05c-9bd4-45c6-9ca4-77f773c66280",
   "metadata": {},
   "outputs": [
    {
     "name": "stdout",
     "output_type": "stream",
     "text": [
      "               var                                     coef\n",
      "0            Month                                  -0.0000\n",
      "1         Latitude                                  -0.0000\n",
      "2        Longitude                                   0.0000\n",
      "3     Building_Age                                   0.0000\n",
      "4           Tenure                                   0.0000\n",
      "5  Property_Type_D                                   0.0000\n",
      "6  Property_Type_F                                  -0.0000\n",
      "7  Property_Type_O                                  -0.0000\n",
      "8  Property_Type_S                                  -0.0000\n",
      "9  Property_Type_T                                  -0.0000\n"
     ]
    }
   ],
   "source": [
    "# print(lasso_model.coef_)\n",
    "df_coef_lasso = pd.DataFrame({\"var\": X_train.columns.values, \"coef\":lasso_model.coef_})\n",
    "print(df_coef_lasso)"
   ]
  },
  {
   "cell_type": "markdown",
   "id": "4653ae6e-352a-437d-812b-f8d4672b04f5",
   "metadata": {},
   "source": [
    "We can apply the Lasso regression with a range of lambda parameters, and see how the coefficients change with the lambda value. The plot is called LASSO Path.\n"
   ]
  },
  {
   "cell_type": "code",
   "execution_count": 36,
   "id": "ef65e09c-7dcf-4249-983c-f99b58d2e76e",
   "metadata": {},
   "outputs": [
    {
     "data": {
      "text/plain": [
       "(-1.35, 6.35, -0.01384097662943528, 0.29066050921814085)"
      ]
     },
     "execution_count": 36,
     "metadata": {},
     "output_type": "execute_result"
    },
    {
     "data": {
      "image/png": "[encoded data removed]",
      "text/plain": [
       "<Figure size 432x288 with 1 Axes>"
      ]
     },
     "metadata": {},
     "output_type": "display_data"
    }
   ],
   "source": [
    "\n",
    "from itertools import cycle\n",
    "from sklearn.linear_model import lasso_path\n",
    "\n",
    "train_x_standard = X_train/X_train.std(axis=0)\n",
    "list_alphas = [.1, .5, 1, 10, 100, 1000, 10000, 100000, 1000000]\n",
    "\n",
    "# alphas_lasso, coefs_lasso, _ = lasso_path(predictors_bike_rental, response_bike_rental, alphas = [.1, .5, 1, 10, 100], fit_intercept=False)\n",
    "alphas_lasso, coefs_lasso, _ = lasso_path(train_x_standard, y_train.values.reshape(-1),alphas = list_alphas, fit_intercept=False)\n",
    "# print(alphas_lasso.shape)\n",
    "# print(coefs_lasso.shape)\n",
    "\n",
    "log_alphas_lasso = np.log10(alphas_lasso)\n",
    "for coef_l in coefs_lasso:\n",
    "    l1 = plt.plot(log_alphas_lasso, coef_l)\n",
    "\n",
    "plt.xlabel('Log(alpha)')\n",
    "plt.ylabel('coefficients')\n",
    "plt.title('Lasso Path')\n",
    "plt.axis('tight')"
   ]
  },
  {
   "cell_type": "markdown",
   "id": "07788f69-db07-41ff-9ba2-2e6c3e0dd7c5",
   "metadata": {},
   "source": [
    "From the graph we can see that with the increase of alpha value, the number of non-zero coefficients is reduced gradually\n",
    "the variables with a coefficient of 0 means the variable is excluded from the model  \n",
    "\n",
    "Since our lasso_model.score is 0, it means that the Lasso model does not do well in fitting the\n",
    "relationship between the independent and dependent variables. Moreover, the plot of Lasso\n",
    "Path is not very good."
   ]
  },
  {
   "cell_type": "markdown",
   "id": "8e437da5-49c4-4422-a74a-16db45b88172",
   "metadata": {},
   "source": [
    "\n",
    "\n",
    "We will use cross validation to search for the optimal alpha value. The code below is based on this link.\n",
    "\n",
    "What is the search range of alphas?\n",
    "\n",
    "The lassoCV function an argument called alphas, which is the list of alphas where to compute the models. Its default value is None. If None, alphas are set automatically.\n",
    "\n",
    "As the automatically selected alpha values don't work well here (reason unknown), we will manually set alphas to list_alphas."
   ]
  },
  {
   "cell_type": "code",
   "execution_count": 37,
   "id": "e27097b9-f16b-4067-8af9-7a1201e1fef3",
   "metadata": {},
   "outputs": [],
   "source": [
    "from sklearn.linear_model import LassoCV\n",
    "\n",
    "start_time = time.time()\n",
    "lasso_cv = LassoCV(cv=20, alphas=list_alphas).fit(X_train, y_train)\n",
    "fit_time = time.time() - start_time"
   ]
  },
  {
   "cell_type": "code",
   "execution_count": 38,
   "id": "bbb1bfd0-00b9-42d6-860b-2a0a7c49a3b7",
   "metadata": {},
   "outputs": [
    {
     "data": {
      "image/png": "[encoded data removed]",
      "text/plain": [
       "<Figure size 432x288 with 1 Axes>"
      ]
     },
     "metadata": {},
     "output_type": "display_data"
    }
   ],
   "source": [
    "import matplotlib.pyplot as plt\n",
    "\n",
    "ymin, ymax = np.min(lasso_cv.mse_path_), np.max(lasso_cv.mse_path_)\n",
    "# lasso = model[-1]\n",
    "plt.semilogx(lasso_cv.alphas_, lasso_cv.mse_path_, linestyle=\":\")\n",
    "plt.plot(\n",
    "    lasso_cv.alphas_,\n",
    "    lasso_cv.mse_path_.mean(axis=-1),\n",
    "    color=\"black\",\n",
    "    label=\"Average across the folds\",\n",
    "    linewidth=2,\n",
    ")\n",
    "plt.axvline(lasso_cv.alpha_, linestyle=\"--\", color=\"black\", label=\"alpha: CV estimate\")\n",
    "\n",
    "plt.ylim(ymin, ymax)\n",
    "plt.xlabel(r\"$\\alpha$\")\n",
    "plt.ylabel(\"Mean square error\")\n",
    "plt.legend()\n",
    "_ = plt.title(\n",
    "    f\"Mean square error on each fold: coordinate descent (train time: {fit_time:.2f}s)\"\n",
    ")"
   ]
  },
  {
   "cell_type": "markdown",
   "id": "8fa0c863-c605-4469-a116-83f8b7918fec",
   "metadata": {},
   "source": [
    "Print the alphas_ values that have been compared."
   ]
  },
  {
   "cell_type": "code",
   "execution_count": 39,
   "id": "58f697ce-89cd-4245-875d-c1e856f6a8d6",
   "metadata": {},
   "outputs": [
    {
     "name": "stdout",
     "output_type": "stream",
     "text": [
      "[1.e+06 1.e+05 1.e+04 1.e+03 1.e+02 1.e+01 1.e+00 5.e-01 1.e-01]\n"
     ]
    }
   ],
   "source": [
    "print(lasso_cv.alphas_)"
   ]
  },
  {
   "cell_type": "markdown",
   "id": "6c16927d-8c74-4082-a5ae-aba9424581e3",
   "metadata": {},
   "source": [
    "The optimal alpha value is as follows.\n",
    "\n",
    "Note that this calculation contains some randomness and the mean square area of alpha=0.1 and alpha=1 is very close. Therefore, the optimal alpha might be 0.1 or 1 and might differ in different runs"
   ]
  },
  {
   "cell_type": "code",
   "execution_count": 40,
   "id": "57bc3207-409f-4c23-a17d-b46ab168bfc6",
   "metadata": {},
   "outputs": [
    {
     "name": "stdout",
     "output_type": "stream",
     "text": [
      "0.1\n"
     ]
    }
   ],
   "source": [
    "print(lasso_cv.alpha_)"
   ]
  },
  {
   "cell_type": "markdown",
   "id": "faf918ca-16a2-4e66-b82a-74d1fff0d7d7",
   "metadata": {},
   "source": [
    "Rerun the lasso model using the optimal alpha value:"
   ]
  },
  {
   "cell_type": "code",
   "execution_count": 41,
   "id": "b8ccf19f-f0d8-4ac8-99e8-3ee19041f2e3",
   "metadata": {},
   "outputs": [
    {
     "name": "stdout",
     "output_type": "stream",
     "text": [
      "0.0\n"
     ]
    }
   ],
   "source": [
    "# increase the max_iter to guarantee convergence\n",
    "lasso_model = sklearn.linear_model.Lasso(max_iter=10e7, normalize=True, alpha = lasso_cv.alpha_)\n",
    "lasso_model.fit(X=X_train, y=y_train)\n",
    "print(lasso_model.score(X_train, y_train))"
   ]
  },
  {
   "cell_type": "code",
   "execution_count": 42,
   "id": "b27fe073-a258-49ef-83df-9148d4c5e590",
   "metadata": {},
   "outputs": [
    {
     "name": "stdout",
     "output_type": "stream",
     "text": [
      "-0.000507369059570939\n"
     ]
    }
   ],
   "source": [
    "print(lasso_model.score(X_test, y_test))"
   ]
  },
  {
   "cell_type": "code",
   "execution_count": 43,
   "id": "307abe9a-d8fd-4052-a6c3-3d9548f4ed93",
   "metadata": {},
   "outputs": [
    {
     "name": "stdout",
     "output_type": "stream",
     "text": [
      "-0.0001660850487512633\n"
     ]
    }
   ],
   "source": [
    "print(lasso_model.score(X_val, y_val))"
   ]
  },
  {
   "cell_type": "markdown",
   "id": "1706af3f-99e4-4d28-b6ec-92c0ddc62d3b",
   "metadata": {},
   "source": [
    "Since our lasso_model.score is 0, it means that the Lasso model does not do well in fitting the relationship between the independent and dependent variables. Moreover, the plot of Lasso Path is not very good."
   ]
  },
  {
   "cell_type": "markdown",
   "id": "78093a77-7920-4f68-9840-0e16cd66fa3b",
   "metadata": {},
   "source": [
    "### 5.5 Random Forest"
   ]
  },
  {
   "cell_type": "code",
   "execution_count": 44,
   "id": "47087521-9ff9-47a6-adb4-df986f8954dc",
   "metadata": {},
   "outputs": [
    {
     "data": {
      "text/plain": [
       "RandomForestRegressor(random_state=0)"
      ]
     },
     "execution_count": 44,
     "metadata": {},
     "output_type": "execute_result"
    }
   ],
   "source": [
    "from sklearn.ensemble import RandomForestRegressor\n",
    "reg_random_forest = RandomForestRegressor(random_state=0)\n",
    "reg_random_forest.fit(X_train, y_train)"
   ]
  },
  {
   "cell_type": "code",
   "execution_count": 45,
   "id": "852b0296-5451-46ef-b0f8-8c49cdf490b2",
   "metadata": {},
   "outputs": [
    {
     "name": "stdout",
     "output_type": "stream",
     "text": [
      "R2 on the training data:\n",
      "0.9330459321796591\n",
      "R2 on the testing data:\n",
      "0.5303438929478308\n"
     ]
    }
   ],
   "source": [
    "print(\"R2 on the training data:\")\n",
    "print(reg_random_forest.score(X=X_train, y=y_train))\n",
    "print(\"R2 on the testing data:\")\n",
    "print(reg_random_forest.score(X=X_test, y=y_test))"
   ]
  },
  {
   "cell_type": "markdown",
   "id": "213c3548-95d2-4e81-885d-9082dce3343b",
   "metadata": {},
   "source": [
    "**From regression tree**: It looks like the R2 on the testing data is much lower than that on the training data. This indicates the overfitting problem, meaning that it fits very well to the training data but fails to generalise to unseen data.\n",
    "\n",
    "CART tends to overfit, and this issue can be reduced by ensemble methods which combine many many trees.\n",
    "\n",
    "If you prefer RMSE as the performance metric, you can calculate it as follows (see the documentation):"
   ]
  },
  {
   "cell_type": "markdown",
   "id": "f22daed9-3d7a-40aa-be6b-d3119e8daa22",
   "metadata": {},
   "source": [
    "___"
   ]
  },
  {
   "cell_type": "markdown",
   "id": "10fb5858-0f40-4a22-93d9-49db2b020a65",
   "metadata": {},
   "source": [
    "So - what do you think about the comparison of R2 on the training and testing data?\n",
    "\n",
    "As with CART, it is not useful to visualise the trees in a random forest.\n",
    "\n",
    "Calculate and plot the feature importance of the RF model.\n",
    "\n",
    "Although the feature importance value differs from the CART, the order of the top-ranking variables is the same.\n",
    "\n",
    "This indicates that these variables are indeed very important for the prediction of bike rental."
   ]
  },
  {
   "cell_type": "markdown",
   "id": "ee25d8b5-2d0c-43a0-8ec1-6f888fa1a32e",
   "metadata": {},
   "source": [
    "---"
   ]
  },
  {
   "cell_type": "markdown",
   "id": "d65c48fb-c8ed-4f18-83b9-adeab46a2a20",
   "metadata": {},
   "source": [
    "As this tree has over 20 layers and hundreds of leaves, it is not useful to visualise this tree. \n",
    "\n",
    "Alternatively, we will use the Permutation Feature Importance (PFI) to evaluate the relative importance of each variable.\n",
    "\n",
    "We will use the package of **rfpimp** to compute the variable importance. If this package is not installed, install it using ```pip install rfpimp```.\n",
    "\n",
    "An introduction of this package is [here](https://github.com/parrt/random-forest-importances).\n",
    "\n",
    "A good introduction to the permutation feature importance is [here](https://christophm.github.io/interpretable-ml-book/feature-importance.html)."
   ]
  },
  {
   "cell_type": "code",
   "execution_count": 46,
   "id": "02b1e884-39c7-48fc-84d3-81c26d8f0afa",
   "metadata": {},
   "outputs": [
    {
     "name": "stdout",
     "output_type": "stream",
     "text": [
      "Requirement already satisfied: rfpimp in /opt/conda/envs/sds2021/lib/python3.9/site-packages (1.3.7)\n",
      "Requirement already satisfied: pandas in /opt/conda/envs/sds2021/lib/python3.9/site-packages (from rfpimp) (1.3.0)\n",
      "Requirement already satisfied: scikit-learn in /opt/conda/envs/sds2021/lib/python3.9/site-packages (from rfpimp) (0.24.2)\n",
      "Requirement already satisfied: numpy in /opt/conda/envs/sds2021/lib/python3.9/site-packages (from rfpimp) (1.21.1)\n",
      "Requirement already satisfied: matplotlib in /opt/conda/envs/sds2021/lib/python3.9/site-packages (from rfpimp) (3.4.2)\n",
      "Requirement already satisfied: cycler>=0.10 in /opt/conda/envs/sds2021/lib/python3.9/site-packages (from matplotlib->rfpimp) (0.10.0)\n",
      "Requirement already satisfied: kiwisolver>=1.0.1 in /opt/conda/envs/sds2021/lib/python3.9/site-packages (from matplotlib->rfpimp) (1.3.1)\n",
      "Requirement already satisfied: python-dateutil>=2.7 in /opt/conda/envs/sds2021/lib/python3.9/site-packages (from matplotlib->rfpimp) (2.8.0)\n",
      "Requirement already satisfied: pyparsing>=2.2.1 in /opt/conda/envs/sds2021/lib/python3.9/site-packages (from matplotlib->rfpimp) (2.4.7)\n",
      "Requirement already satisfied: pillow>=6.2.0 in /opt/conda/envs/sds2021/lib/python3.9/site-packages (from matplotlib->rfpimp) (8.2.0)\n",
      "Requirement already satisfied: six in /opt/conda/envs/sds2021/lib/python3.9/site-packages (from cycler>=0.10->matplotlib->rfpimp) (1.16.0)\n",
      "Requirement already satisfied: pytz>=2017.3 in /opt/conda/envs/sds2021/lib/python3.9/site-packages (from pandas->rfpimp) (2021.1)\n",
      "Requirement already satisfied: threadpoolctl>=2.0.0 in /opt/conda/envs/sds2021/lib/python3.9/site-packages (from scikit-learn->rfpimp) (2.2.0)\n",
      "Requirement already satisfied: joblib>=0.11 in /opt/conda/envs/sds2021/lib/python3.9/site-packages (from scikit-learn->rfpimp) (1.0.1)\n",
      "Requirement already satisfied: scipy>=0.19.1 in /opt/conda/envs/sds2021/lib/python3.9/site-packages (from scikit-learn->rfpimp) (1.7.0)\n"
     ]
    }
   ],
   "source": [
    "! pip install rfpimp"
   ]
  },
  {
   "cell_type": "markdown",
   "id": "d28cc1c1-e3f5-424c-9ac6-5310c28b0012",
   "metadata": {},
   "source": [
    "Note that the feature importance should be evaluated using the testing set, as it is unused in the model training.\n",
    "\n",
    "We are interested in the top variables with a positive feature importance. These are days_since_2011, temp, hum, windspeed."
   ]
  },
  {
   "cell_type": "code",
   "execution_count": 47,
   "id": "da000899-6fc2-4cd2-a7f1-c8a900f17b31",
   "metadata": {},
   "outputs": [
    {
     "name": "stdout",
     "output_type": "stream",
     "text": [
      "                                              Importance\n",
      "Feature                                                 \n",
      "Latitude                                          0.7965\n",
      "Longitude                                         0.3452\n",
      "Property_Type_D                                   0.3139\n",
      "Tenure                                            0.1479\n",
      "Property_Type_S                                   0.0570\n",
      "Property_Type_O                                   0.0159\n",
      "Month                                             0.0132\n",
      "Property_Type_T                                   0.0042\n",
      "Building_Age                                      0.0019\n",
      "Property_Type_F                                   0.0015\n"
     ]
    },
    {
     "data": {
      "image/png": "[encoded data removed]",
      "text/plain": [
       "<Figure size 288x159.84 with 1 Axes>"
      ]
     },
     "metadata": {},
     "output_type": "display_data"
    }
   ],
   "source": [
    "import rfpimp\n",
    "imp = rfpimp.importances(reg_random_forest, X_test, y_test) # permutation\n",
    "print(imp)\n",
    "viz = rfpimp.plot_importances(imp)\n",
    "viz.view()"
   ]
  },
  {
   "cell_type": "markdown",
   "id": "f6110429-a2de-4ffe-a1fa-ac204303e0ad",
   "metadata": {},
   "source": [
    "#### Hyperparameter Optimization Using Cross-validation"
   ]
  },
  {
   "cell_type": "markdown",
   "id": "79a57d20-9cb1-4d7b-8390-e4c2892c36a0",
   "metadata": {},
   "source": [
    "Cross validation is more robust"
   ]
  },
  {
   "cell_type": "code",
   "execution_count": 52,
   "id": "d427e8d2-e3d5-4543-907a-1173b754788e",
   "metadata": {},
   "outputs": [],
   "source": [
    "# we merge the training and validation data and use the merged data for cross validation\n",
    "X_train_val = pd.concat([X_train, X_val])\n",
    "y_train_val = pd.concat([y_train, y_val])"
   ]
  },
  {
   "cell_type": "code",
   "execution_count": 53,
   "id": "5a1cd3f0-05b6-45f4-89b4-23f8addb759b",
   "metadata": {},
   "outputs": [
    {
     "name": "stdout",
     "output_type": "stream",
     "text": [
      "The best parameter value is: \n",
      "{'n_estimators': 300}\n",
      "The best score is: \n",
      "0.5426497488865073\n",
      "CPU times: user 3min 1s, sys: 2.26 s, total: 3min 3s\n",
      "Wall time: 3min 3s\n"
     ]
    }
   ],
   "source": [
    "%%time\n",
    "\n",
    "# values of n_estimators\n",
    "list_n_estimators = [50, 100, 200, 300, 400]\n",
    "\n",
    "# create a grid of the two hyperparameters\n",
    "parameters = {'n_estimators':list_n_estimators}\n",
    "\n",
    "random_state_rf = 50\n",
    "rf = RandomForestRegressor(random_state_rf)\n",
    "\n",
    "# rf = RandomForestRegressor()\n",
    "\n",
    "# cv=5 by default, which means 5-fold cross-validation\n",
    "clf = model_selection.GridSearchCV(rf, parameters)\n",
    "\n",
    "clf.fit(X_train_val, y_train_val)\n",
    "\n",
    "# we can query the best parameter value and its accuracy score\n",
    "print (\"The best parameter value is: \")\n",
    "print (clf.best_params_)\n",
    "print (\"The best score is: \")\n",
    "print (clf.best_score_)"
   ]
  },
  {
   "cell_type": "markdown",
   "id": "1a83475a-a57d-4a2a-80e6-d882c71d5cce",
   "metadata": {},
   "source": [
    "It looks like the training and development scores do not change significantly with the number of trees, which means that the model is quite robust to this number of trees in the random forest.\n",
    "\n",
    "You can pick up the point where the gap between training and cross-validation score reaches the minimum as the selected hyperparameter."
   ]
  },
  {
   "cell_type": "code",
   "execution_count": 54,
   "id": "c00f484b-6042-404e-91d8-35eadc2efe2f",
   "metadata": {},
   "outputs": [
    {
     "data": {
      "text/plain": [
       "RandomForestRegressor(n_estimators=300, random_state=50)"
      ]
     },
     "execution_count": 54,
     "metadata": {},
     "output_type": "execute_result"
    }
   ],
   "source": [
    "rf_final_model = RandomForestRegressor(n_estimators=clf.best_params_['n_estimators'], random_state=random_state_rf)\n",
    "rf_final_model.fit(X_train, y_train)"
   ]
  },
  {
   "cell_type": "code",
   "execution_count": 55,
   "id": "8fa06d9c-bdec-4218-b82a-de199d91bfff",
   "metadata": {},
   "outputs": [
    {
     "name": "stdout",
     "output_type": "stream",
     "text": [
      "The score on the training data:\n",
      "0.9353097265092534\n",
      "The score on the development data:\n",
      "0.5422682286207768\n",
      "The score on the test data:\n",
      "0.5269500807407599\n"
     ]
    }
   ],
   "source": [
    "print('The score on the training data:')\n",
    "print(rf_final_model.score(X_train, y_train))\n",
    "print('The score on the development data:')\n",
    "print(rf_final_model.score(X_val, y_val))\n",
    "print('The score on the test data:')\n",
    "print(rf_final_model.score(X_test, y_test))"
   ]
  },
  {
   "cell_type": "markdown",
   "id": "18fe9965-48f1-4dae-b7c5-1deecf2294cd",
   "metadata": {},
   "source": [
    "### 5.6 GBDT and XGBoost"
   ]
  },
  {
   "cell_type": "markdown",
   "id": "123f0c4d-9fef-4881-8194-dd10594ab95a",
   "metadata": {},
   "source": [
    "\n",
    "Last but not least, we will use GBDT to model and predict the bike rental.\n",
    "\n",
    "We will use the XGBoost package. Although it is not part of sklearn, it has a sklearn-style interface, which is very convenient for users.\n",
    "\n",
    "If the XGBoost package is not installed, install it using the following command:"
   ]
  },
  {
   "cell_type": "code",
   "execution_count": 56,
   "id": "6b31caa7-4bc5-4c0e-8bd6-eb995ac65422",
   "metadata": {},
   "outputs": [
    {
     "name": "stdout",
     "output_type": "stream",
     "text": [
      "Requirement already satisfied: XGBoost in /opt/conda/envs/sds2021/lib/python3.9/site-packages (1.4.2)\n",
      "Requirement already satisfied: scipy in /opt/conda/envs/sds2021/lib/python3.9/site-packages (from XGBoost) (1.7.0)\n",
      "Requirement already satisfied: numpy in /opt/conda/envs/sds2021/lib/python3.9/site-packages (from XGBoost) (1.21.1)\n"
     ]
    }
   ],
   "source": [
    "! pip install XGBoost"
   ]
  },
  {
   "cell_type": "code",
   "execution_count": 57,
   "id": "31edeb2e-d3ff-4a7c-89af-8621e8d82c8d",
   "metadata": {},
   "outputs": [],
   "source": [
    "import xgboost as xgb\n",
    "\n",
    "random_state_xgb = 200"
   ]
  },
  {
   "cell_type": "code",
   "execution_count": 58,
   "id": "694c1d64-02eb-4a28-be2e-4c9d63bb09b9",
   "metadata": {},
   "outputs": [
    {
     "data": {
      "text/plain": [
       "XGBRegressor(base_score=0.5, booster='gbtree', colsample_bylevel=1,\n",
       "             colsample_bynode=1, colsample_bytree=1, gamma=0, gpu_id=-1,\n",
       "             importance_type='gain', interaction_constraints='',\n",
       "             learning_rate=0.300000012, max_delta_step=0, max_depth=6,\n",
       "             min_child_weight=1, missing=nan, monotone_constraints='()',\n",
       "             n_estimators=100, n_jobs=2, num_parallel_tree=1, random_state=200,\n",
       "             reg_alpha=0, reg_lambda=1, scale_pos_weight=1, subsample=1,\n",
       "             tree_method='exact', validate_parameters=1, verbosity=None)"
      ]
     },
     "execution_count": 58,
     "metadata": {},
     "output_type": "execute_result"
    }
   ],
   "source": [
    "xgb_model = xgb.XGBRegressor(random_state = random_state_xgb)\n",
    "\n",
    "xgb_model.fit(X_train, y_train)"
   ]
  },
  {
   "cell_type": "code",
   "execution_count": 59,
   "id": "15d9d124-5fed-44eb-8f05-38ea71da88aa",
   "metadata": {},
   "outputs": [
    {
     "name": "stdout",
     "output_type": "stream",
     "text": [
      "R2 on the training data:\n",
      "0.7958508003522082\n",
      "R2 on the testing data:\n",
      "0.4733280734736046\n"
     ]
    }
   ],
   "source": [
    "print(\"R2 on the training data:\")\n",
    "print(xgb_model.score(X=X_train, y=y_train))\n",
    "print(\"R2 on the testing data:\")\n",
    "print(xgb_model.score(X=X_test, y=y_test))"
   ]
  },
  {
   "cell_type": "markdown",
   "id": "e65a5ed4-83eb-4f8c-b478-09988bb53fd4",
   "metadata": {},
   "source": [
    "\n",
    "What is the relative feature importance in this model?\n",
    "\n",
    "Can you compare the variable importance with the CART and RF?"
   ]
  },
  {
   "cell_type": "code",
   "execution_count": 60,
   "id": "d23314b3-413e-4f0f-b3cb-7fafd0d7acce",
   "metadata": {},
   "outputs": [
    {
     "name": "stdout",
     "output_type": "stream",
     "text": [
      "                                              Importance\n",
      "Feature                                                 \n",
      "Latitude                                          0.9148\n",
      "Longitude                                         0.4630\n",
      "Property_Type_D                                   0.2333\n",
      "Property_Type_O                                   0.1626\n",
      "Tenure                                            0.1186\n",
      "Month                                             0.0809\n",
      "Property_Type_S                                   0.0224\n",
      "Property_Type_F                                   0.0219\n",
      "Property_Type_T                                   0.0127\n",
      "Building_Age                                      0.0052\n"
     ]
    },
    {
     "data": {
      "image/png": "[encoded data removed]",
      "text/plain": [
       "<Figure size 288x159.84 with 1 Axes>"
      ]
     },
     "metadata": {},
     "output_type": "display_data"
    }
   ],
   "source": [
    "imp = rfpimp.importances(xgb_model, X_train, y_train) # permutation\n",
    "print(imp)\n",
    "viz = rfpimp.plot_importances(imp)\n",
    "viz.view()"
   ]
  },
  {
   "cell_type": "markdown",
   "id": "67ddfc25-90cc-4f9a-b812-a15b6673ec7c",
   "metadata": {},
   "source": [
    "#### Hyperparameter Optimization Using Holdout Validation"
   ]
  },
  {
   "cell_type": "code",
   "execution_count": 61,
   "id": "847e2d2e-0e03-43f4-95cb-4190211de462",
   "metadata": {},
   "outputs": [],
   "source": [
    "# merge training and validation data, as required by GridSearchCV\n",
    "X_train_val = pd.concat([X_train, X_val])\n",
    "y_train_val = pd.concat([y_train, y_val])                       \n",
    "\n",
    "# the index list of training and validation data in the merged dataset\n",
    "# in X_train_val, the first n rows are from X_train and the remaining rows are from X_val. Here n=X_train.shape[0]\n",
    "ind_train = list(range(X_train.shape[0]))\n",
    "ind_val = list(range(X_train.shape[0], X_train_val.shape[0]))"
   ]
  },
  {
   "cell_type": "code",
   "execution_count": 62,
   "id": "eea0d8ca-ebd7-4a40-b116-0da40b0f295e",
   "metadata": {},
   "outputs": [
    {
     "name": "stdout",
     "output_type": "stream",
     "text": [
      "The best parameter value is: \n",
      "{'n_estimators': 100}\n",
      "The best score is: \n",
      "0.5395132800490139\n"
     ]
    }
   ],
   "source": [
    "# values of n_estimators\n",
    "parameters = {'n_estimators':[10,30,50,70,100]}\n",
    "\n",
    "randomState_xgb = 100\n",
    "xgb = RandomForestRegressor(random_state=randomState_xgb)\n",
    "\n",
    "# CV: An iterable yielding (train, test) splits as arrays of indices.\n",
    "clf = model_selection.GridSearchCV(xgb, parameters, cv=[(ind_train, ind_val)])\n",
    "\n",
    "clf.fit(X_train_val, y_train_val)\n",
    "\n",
    "# we can query the best parameter value and its accuracy score\n",
    "print (\"The best parameter value is: \")\n",
    "print (clf.best_params_)\n",
    "print (\"The best score is: \")\n",
    "print (clf.best_score_)"
   ]
  },
  {
   "cell_type": "markdown",
   "id": "4e32cae8-052e-4a36-9591-296f4f15652f",
   "metadata": {},
   "source": [
    "Now, print out the optimal number of trees. Note that if you change the random_state in the RandomForestRegressor, you may get a different best_params_ but the best_score_ is quite similar across different runs. This is because the randomisation in creating RandomForestRegressor.\n",
    "\n",
    "We can create the final random forest model using the optimal parameters."
   ]
  },
  {
   "cell_type": "code",
   "execution_count": 63,
   "id": "53c7d5c5-f1b6-482a-b341-bcf0485ea526",
   "metadata": {},
   "outputs": [
    {
     "data": {
      "text/plain": [
       "RandomForestRegressor(random_state=100)"
      ]
     },
     "execution_count": 63,
     "metadata": {},
     "output_type": "execute_result"
    }
   ],
   "source": [
    "xgb_final_model = RandomForestRegressor(n_estimators=clf.best_params_['n_estimators'], random_state=randomState_xgb)\n",
    "xgb_final_model.fit(X_train, y_train)"
   ]
  },
  {
   "cell_type": "markdown",
   "id": "e4dfab99-bd5e-4635-aa7b-5e567fc18f9e",
   "metadata": {},
   "source": [
    "After tuning the hyperparameters, we are able to evaluate the performance of the model to inspect bias and variance.\n",
    "\n",
    "Note that the score on teh validation data is the same as the clf.best_score_."
   ]
  },
  {
   "cell_type": "code",
   "execution_count": 64,
   "id": "72ed7bf0-9c79-4707-bf53-3412ccb6620f",
   "metadata": {},
   "outputs": [
    {
     "name": "stdout",
     "output_type": "stream",
     "text": [
      "The score on the training data:\n",
      "0.9356224019498546\n",
      "The score on the development data:\n",
      "0.5395132800490139\n",
      "The score on the test data:\n",
      "0.5283065261171771\n"
     ]
    }
   ],
   "source": [
    "print('The score on the training data:')\n",
    "print(xgb_final_model.score(X_train, y_train))\n",
    "print('The score on the development data:')\n",
    "print(xgb_final_model.score(X_val, y_val))\n",
    "print('The score on the test data:')\n",
    "print(xgb_final_model.score(X_test, y_test))"
   ]
  },
  {
   "cell_type": "markdown",
   "id": "b3cb0be4-a7c4-4f04-9863-f55511a72bac",
   "metadata": {},
   "source": [
    "## 6. Results and Discussion"
   ]
  },
  {
   "cell_type": "markdown",
   "id": "fc5b10c0-654d-456e-81cc-edcc58bfd892",
   "metadata": {},
   "source": [
    " R2 is negative only when the chosen model does not follow the trend of the data.\n",
    "\n",
    "It seems that your model may be giving better performance because of over-fitting.\n",
    "\n",
    "Note that it is possible to get a negative R-square for equations that do not contain a constant term. \n",
    "Negative values can occur when the model contains terms that do not help to predict the response.\n",
    "\n",
    "bad fitted"
   ]
  },
  {
   "cell_type": "markdown",
   "id": "263bc6e2-f45f-473b-a0c7-8bd4272ffab0",
   "metadata": {},
   "source": [
    "We have built a range of regression models. Now we can collate these models and compare their performance.\n",
    "\n"
   ]
  },
  {
   "cell_type": "code",
   "execution_count": 65,
   "id": "65e77d40-399b-4462-8bc9-6cab520573da",
   "metadata": {},
   "outputs": [
    {
     "name": "stdout",
     "output_type": "stream",
     "text": [
      "                                    R2_train_data  \\\n",
      "LR_VIF                                     0.3182   \n",
      "LR_LASSO                                   0.0000   \n",
      "RF                                         0.9353   \n",
      "GBDT                                       0.9356   \n",
      "\n",
      "                                     R2_test_data  \\\n",
      "LR_VIF                                     0.3194   \n",
      "LR_LASSO                                  -0.0005   \n",
      "RF                                         0.5270   \n",
      "GBDT                                       0.5283   \n",
      "\n",
      "                                          R2_diff  \n",
      "LR_VIF                                    -0.0011  \n",
      "LR_LASSO                                   0.0005  \n",
      "RF                                         0.4084  \n",
      "GBDT                                       0.4073  \n"
     ]
    }
   ],
   "source": [
    "# create a list of models\n",
    "list_name_models = ['LR_VIF', 'LR_LASSO', 'RF', 'GBDT']\n",
    "# use the models from above\n",
    "list_reg_models = [lr, lasso_model, rf_final_model, xgb_final_model]\n",
    "\n",
    "dict_models = dict()\n",
    "\n",
    "for name, model in zip(list_name_models, list_reg_models):\n",
    "    if name == 'LR_VIF':\n",
    "        dict_models[name] = [model.score(train_x_VIF, y_train), model.score(test_x_VIF, y_test), model.score(train_x_VIF, y_train) - model.score(test_x_VIF, y_test)]\n",
    "    else:\n",
    "        dict_models[name] = [model.score(X_train, y_train), model.score(X_test, y_test), model.score(X_train, y_train) - model.score(X_test, y_test)]\n",
    "#     dict_models[name] = [model.score(X_train, y_train), model.score(X_test, y_test), model.score(X_train, y_train) - model.score(X_test, y_test)]\n",
    "\n",
    "# transform dict_models to dataframe\n",
    "df_models = pd.DataFrame.from_dict(dict_models, orient='index', columns=['R2_train_data', 'R2_test_data', 'R2_diff'])\n",
    "print(df_models)"
   ]
  },
  {
   "cell_type": "markdown",
   "id": "b6cb18cd-d1b7-4119-a337-33263494d68c",
   "metadata": {},
   "source": [
    "high bias, high variance, good balance\n",
    "overfitting, underfitting, improvement needed"
   ]
  },
  {
   "cell_type": "markdown",
   "id": "88d197b3-38ca-4122-be89-dc30dc80124c",
   "metadata": {},
   "source": [
    "### Limitation"
   ]
  },
  {
   "cell_type": "markdown",
   "id": "2deedd7d-e235-4387-a487-3ecbbad77595",
   "metadata": {},
   "source": [
    "as CNN reqires a much more dataset to train which significantly exceeds memory limit and my notebook died after attempt running, it was stopped. "
   ]
  },
  {
   "cell_type": "markdown",
   "id": "f0e8c309-c9e6-4b00-b237-10f1af7d2ba8",
   "metadata": {},
   "source": [
    "## 7. Conclusion"
   ]
  },
  {
   "cell_type": "markdown",
   "id": "4a5955b3-aa2e-47e3-96b4-5dc1eb1a6456",
   "metadata": {},
   "source": []
  },
  {
   "cell_type": "code",
   "execution_count": 66,
   "id": "c11c8b4a-7d7e-4f06-ad08-9ea169c003dc",
   "metadata": {},
   "outputs": [
    {
     "name": "stdout",
     "output_type": "stream",
     "text": [
      "Total run time:  232.5604853630066 seconds\n"
     ]
    }
   ],
   "source": [
    "end_time = time.time()\n",
    "run_time = end_time - start_time\n",
    "print(\"Total run time: \", run_time, \"seconds\")"
   ]
  },
  {
   "cell_type": "markdown",
   "id": "8ffab164-9ef9-40db-9066-00165d35f135",
   "metadata": {},
   "source": [
    "*(word count: )*"
   ]
  },
  {
   "cell_type": "markdown",
   "id": "f87afee7-947e-486c-a36d-d3da7d5b655e",
   "metadata": {},
   "source": [
    "## Bibliography"
   ]
  },
  {
   "cell_type": "markdown",
   "id": "6bba4258-2ce9-4525-a48c-d3dd0791900c",
   "metadata": {},
   "source": []
  },
  {
   "cell_type": "markdown",
   "id": "5932d6b6-e1ab-4d50-b603-a3c719fdcc8f",
   "metadata": {},
   "source": [
    "| [1. Introduction](#1.-Introduction) | [2. Literature Review](#2.-Literature-Review) | [3. Research Question](#3.-Research-Question) | [4. Data](#4.-Data) | [5. Methodology](#5.-Methodology) | [6. Results and Discussion](#6.-Results-and-Discussion) | [7. Conclusion](#7.-Conclusion) | [Bibliography](#Bibliography) |"
   ]
  }
 ],
 "metadata": {
  "kernelspec": {
   "display_name": "Python 3 (ipykernel)",
   "language": "python",
   "name": "python3"
  },
  "language_info": {
   "codemirror_mode": {
    "name": "ipython",
    "version": 3
   },
   "file_extension": ".py",
   "mimetype": "text/x-python",
   "name": "python",
   "nbconvert_exporter": "python",
   "pygments_lexer": "ipython3",
   "version": "3.9.6"
  }
 },
 "nbformat": 4,
 "nbformat_minor": 5
}
