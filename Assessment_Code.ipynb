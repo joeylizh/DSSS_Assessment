{
 "cells": [
  {
   "cell_type": "markdown",
   "id": "34cb7624-3aed-4571-9d66-ce94e5e038f5",
   "metadata": {},
   "source": [
    "# **ABABA**"
   ]
  },
  {
   "cell_type": "markdown",
   "id": "f1ba7b32-9be5-410c-bd3a-dff904f82843",
   "metadata": {},
   "source": [
    "*This paper* "
   ]
  },
  {
   "cell_type": "markdown",
   "id": "433a4df5-6b6f-4348-8601-8ad2f07d74a2",
   "metadata": {},
   "source": [
    "| [1. Introduction](#1.-Introduction) | [2. Literature Review](#2.-Literature-Review) | [3. Research Question](#3.-Research-Question) | [4. Data](#4.-Data) | [5. Methodology](#5.-Methodology) | [6. Results and Discussion](#6.-Results-and-Discussion) | [7. Conclusion](#7.-Conclusion) | [Bibliography](#Bibliography) |"
   ]
  },
  {
   "cell_type": "markdown",
   "id": "e05ccb5e-b2c2-42e7-8537-9ca609d68fc7",
   "metadata": {},
   "source": [
    "---"
   ]
  },
  {
   "cell_type": "markdown",
   "id": "8c3fbe83-93ee-48f9-82e7-4f4828d32371",
   "metadata": {},
   "source": [
    "## 1. Introduction\n"
   ]
  },
  {
   "cell_type": "code",
   "execution_count": 1,
   "id": "ee9e1ea5-30d1-4587-a5b5-d9c2c04dc575",
   "metadata": {},
   "outputs": [],
   "source": [
    "import time\n",
    "start_time = time.time()"
   ]
  },
  {
   "cell_type": "code",
   "execution_count": null,
   "id": "85aef96c-a69a-4bb1-9415-d8d0ccb37049",
   "metadata": {},
   "outputs": [],
   "source": []
  },
  {
   "cell_type": "markdown",
   "id": "e9862b19-15fe-42c6-a4fe-bda66b8c648d",
   "metadata": {},
   "source": [
    "### 1.1 adaf"
   ]
  },
  {
   "cell_type": "code",
   "execution_count": null,
   "id": "8965c742-1512-4182-a5c4-a21d25446ad8",
   "metadata": {},
   "outputs": [],
   "source": []
  },
  {
   "cell_type": "markdown",
   "id": "9dec6a95-9adc-4286-8547-7f31e1ca9038",
   "metadata": {},
   "source": [
    "## 2. Literature Review"
   ]
  },
  {
   "cell_type": "code",
   "execution_count": null,
   "id": "90031a61-763b-43fa-97df-a2a18d864507",
   "metadata": {},
   "outputs": [],
   "source": []
  },
  {
   "cell_type": "markdown",
   "id": "112a6ec7-4ecd-4ff7-a0c2-42c2f041fb6d",
   "metadata": {},
   "source": [
    "## 3. Research Question"
   ]
  },
  {
   "cell_type": "code",
   "execution_count": null,
   "id": "8ffa0073-54ad-4490-a335-ddd1fc79344c",
   "metadata": {},
   "outputs": [],
   "source": []
  },
  {
   "cell_type": "markdown",
   "id": "5986b8aa-c978-4e0a-8ac7-f884738c886e",
   "metadata": {},
   "source": [
    "## 4. Data"
   ]
  },
  {
   "cell_type": "code",
   "execution_count": null,
   "id": "cbe33628-f2d0-4f79-896a-18e773d274f3",
   "metadata": {},
   "outputs": [],
   "source": []
  },
  {
   "cell_type": "markdown",
   "id": "b1356ce6-b661-4c28-bdbd-0e0e32c571cf",
   "metadata": {},
   "source": [
    "## 5. Methodology"
   ]
  },
  {
   "cell_type": "code",
   "execution_count": null,
   "id": "8d669d4b-11b2-4599-adab-a8d999430d20",
   "metadata": {},
   "outputs": [],
   "source": []
  },
  {
   "cell_type": "markdown",
   "id": "b3cb0be4-a7c4-4f04-9863-f55511a72bac",
   "metadata": {},
   "source": [
    "## 6. Results and Discussion"
   ]
  },
  {
   "cell_type": "code",
   "execution_count": null,
   "id": "0f2166f1-34e4-45e6-8684-0cbff7bcef21",
   "metadata": {},
   "outputs": [],
   "source": []
  },
  {
   "cell_type": "code",
   "execution_count": null,
   "id": "cdbe0dda-aeab-4875-9d46-9bc14bab8176",
   "metadata": {},
   "outputs": [],
   "source": []
  },
  {
   "cell_type": "markdown",
   "id": "f0e8c309-c9e6-4b00-b237-10f1af7d2ba8",
   "metadata": {},
   "source": [
    "## 7. Conclusion"
   ]
  },
  {
   "cell_type": "code",
   "execution_count": null,
   "id": "e029bcb7-49c1-45ca-b5ad-868afecb5168",
   "metadata": {},
   "outputs": [],
   "source": []
  },
  {
   "cell_type": "code",
   "execution_count": 2,
   "id": "c11c8b4a-7d7e-4f06-ad08-9ea169c003dc",
   "metadata": {},
   "outputs": [
    {
     "name": "stdout",
     "output_type": "stream",
     "text": [
      "Total run time:  0.017493724822998047 seconds\n"
     ]
    }
   ],
   "source": [
    "end_time = time.time()\n",
    "run_time = end_time - start_time\n",
    "print(\"Total run time: \", run_time, \"seconds\")"
   ]
  },
  {
   "cell_type": "markdown",
   "id": "8ffab164-9ef9-40db-9066-00165d35f135",
   "metadata": {},
   "source": [
    "*(word count: )*"
   ]
  },
  {
   "cell_type": "markdown",
   "id": "f87afee7-947e-486c-a36d-d3da7d5b655e",
   "metadata": {},
   "source": [
    "## Bibliography"
   ]
  },
  {
   "cell_type": "code",
   "execution_count": null,
   "id": "9d3e3fdd-25d7-41fd-9508-56484719058e",
   "metadata": {},
   "outputs": [],
   "source": []
  }
 ],
 "metadata": {
  "kernelspec": {
   "display_name": "Python 3 (ipykernel)",
   "language": "python",
   "name": "python3"
  },
  "language_info": {
   "codemirror_mode": {
    "name": "ipython",
    "version": 3
   },
   "file_extension": ".py",
   "mimetype": "text/x-python",
   "name": "python",
   "nbconvert_exporter": "python",
   "pygments_lexer": "ipython3",
   "version": "3.9.6"
  }
 },
 "nbformat": 4,
 "nbformat_minor": 5
}
